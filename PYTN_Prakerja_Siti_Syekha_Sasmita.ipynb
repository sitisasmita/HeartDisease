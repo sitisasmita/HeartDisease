{
  "nbformat": 4,
  "nbformat_minor": 0,
  "metadata": {
    "colab": {
      "name": "PYTN_Prakerja_Siti_Syekha_Sasmita.ipynb",
      "provenance": [],
      "collapsed_sections": [],
      "authorship_tag": "ABX9TyMaj9o/ZTKce1xhnO2ZXRBE",
      "include_colab_link": true
    },
    "kernelspec": {
      "name": "python3",
      "display_name": "Python 3"
    },
    "language_info": {
      "name": "python"
    }
  },
  "cells": [
    {
      "cell_type": "markdown",
      "metadata": {
        "id": "view-in-github",
        "colab_type": "text"
      },
      "source": [
        "<a href=\"https://colab.research.google.com/github/sitisasmita/HeartDisease/blob/main/PYTN_Prakerja_Siti_Syekha_Sasmita.ipynb\" target=\"_parent\"><img src=\"https://colab.research.google.com/assets/colab-badge.svg\" alt=\"Open In Colab\"/></a>"
      ]
    },
    {
      "cell_type": "code",
      "execution_count": null,
      "metadata": {
        "id": "R_O91JttiLTL"
      },
      "outputs": [],
      "source": [
        "from google.colab import files\n",
        "\n",
        "import numpy as np\n",
        "import pandas as pd\n",
        "\n",
        "# visualisasi\n",
        "import matplotlib as mpl\n",
        "import matplotlib.pyplot as plt\n",
        "%matplotlib inline\n",
        "mpl.style.use([\"ggplot\"])\n",
        "\n",
        "# splitting\n",
        "from sklearn.model_selection import train_test_split\n",
        "\n",
        "# modeling\n",
        "from sklearn.linear_model import LogisticRegression\n",
        "from sklearn.neighbors import KNeighborsClassifier\n",
        "from sklearn.ensemble import RandomForestClassifier\n",
        "from sklearn import svm \n",
        "from sklearn.tree import DecisionTreeClassifier\n",
        "from sklearn.naive_bayes import GaussianNB\n",
        "\n",
        "#confusion matrix\n",
        "from sklearn.metrics import confusion_matrix, ConfusionMatrixDisplay, accuracy_score, classification_report\n"
      ]
    },
    {
      "cell_type": "code",
      "source": [
        "#upload data set\n",
        "\n",
        "df_heart = files.upload()"
      ],
      "metadata": {
        "id": "EkM8YFGDtR5u",
        "colab": {
          "resources": {
            "http://localhost:8080/nbextensions/google.colab/files.js": {
              "data": "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",
              "ok": true,
              "headers": [
                [
                  "content-type",
                  "application/javascript"
                ]
              ],
              "status": 200,
              "status_text": ""
            }
          },
          "base_uri": "https://localhost:8080/",
          "height": 73
        },
        "outputId": "677973f2-e957-4d33-feff-acdcdc9f3298"
      },
      "execution_count": null,
      "outputs": [
        {
          "output_type": "display_data",
          "data": {
            "text/plain": [
              "<IPython.core.display.HTML object>"
            ],
            "text/html": [
              "\n",
              "     <input type=\"file\" id=\"files-d8188279-3c44-4cf2-ba22-d23c6b333cd5\" name=\"files[]\" multiple disabled\n",
              "        style=\"border:none\" />\n",
              "     <output id=\"result-d8188279-3c44-4cf2-ba22-d23c6b333cd5\">\n",
              "      Upload widget is only available when the cell has been executed in the\n",
              "      current browser session. Please rerun this cell to enable.\n",
              "      </output>\n",
              "      <script src=\"/nbextensions/google.colab/files.js\"></script> "
            ]
          },
          "metadata": {}
        },
        {
          "output_type": "stream",
          "name": "stdout",
          "text": [
            "Saving heart.csv to heart.csv\n"
          ]
        }
      ]
    },
    {
      "cell_type": "code",
      "source": [
        "#read data csv menggunakan pandas \n",
        "\n",
        "df_heart = pd.read_csv('heart.csv')\n",
        "df_heart.head(10)"
      ],
      "metadata": {
        "id": "2qXj24XbuGh5",
        "colab": {
          "base_uri": "https://localhost:8080/",
          "height": 363
        },
        "outputId": "278ee1f8-50a9-465c-e05a-cf3f00132909"
      },
      "execution_count": null,
      "outputs": [
        {
          "output_type": "execute_result",
          "data": {
            "text/plain": [
              "   age  sex  cp  trestbps  chol  fbs  restecg  thalach  exang  oldpeak  slope  \\\n",
              "0   52    1   0       125   212    0        1      168      0      1.0      2   \n",
              "1   53    1   0       140   203    1        0      155      1      3.1      0   \n",
              "2   70    1   0       145   174    0        1      125      1      2.6      0   \n",
              "3   61    1   0       148   203    0        1      161      0      0.0      2   \n",
              "4   62    0   0       138   294    1        1      106      0      1.9      1   \n",
              "5   58    0   0       100   248    0        0      122      0      1.0      1   \n",
              "6   58    1   0       114   318    0        2      140      0      4.4      0   \n",
              "7   55    1   0       160   289    0        0      145      1      0.8      1   \n",
              "8   46    1   0       120   249    0        0      144      0      0.8      2   \n",
              "9   54    1   0       122   286    0        0      116      1      3.2      1   \n",
              "\n",
              "   ca  thal  target  \n",
              "0   2     3       0  \n",
              "1   0     3       0  \n",
              "2   0     3       0  \n",
              "3   1     3       0  \n",
              "4   3     2       0  \n",
              "5   0     2       1  \n",
              "6   3     1       0  \n",
              "7   1     3       0  \n",
              "8   0     3       0  \n",
              "9   2     2       0  "
            ],
            "text/html": [
              "\n",
              "  <div id=\"df-9403a209-4621-4395-ad96-84b885cbdb0b\">\n",
              "    <div class=\"colab-df-container\">\n",
              "      <div>\n",
              "<style scoped>\n",
              "    .dataframe tbody tr th:only-of-type {\n",
              "        vertical-align: middle;\n",
              "    }\n",
              "\n",
              "    .dataframe tbody tr th {\n",
              "        vertical-align: top;\n",
              "    }\n",
              "\n",
              "    .dataframe thead th {\n",
              "        text-align: right;\n",
              "    }\n",
              "</style>\n",
              "<table border=\"1\" class=\"dataframe\">\n",
              "  <thead>\n",
              "    <tr style=\"text-align: right;\">\n",
              "      <th></th>\n",
              "      <th>age</th>\n",
              "      <th>sex</th>\n",
              "      <th>cp</th>\n",
              "      <th>trestbps</th>\n",
              "      <th>chol</th>\n",
              "      <th>fbs</th>\n",
              "      <th>restecg</th>\n",
              "      <th>thalach</th>\n",
              "      <th>exang</th>\n",
              "      <th>oldpeak</th>\n",
              "      <th>slope</th>\n",
              "      <th>ca</th>\n",
              "      <th>thal</th>\n",
              "      <th>target</th>\n",
              "    </tr>\n",
              "  </thead>\n",
              "  <tbody>\n",
              "    <tr>\n",
              "      <th>0</th>\n",
              "      <td>52</td>\n",
              "      <td>1</td>\n",
              "      <td>0</td>\n",
              "      <td>125</td>\n",
              "      <td>212</td>\n",
              "      <td>0</td>\n",
              "      <td>1</td>\n",
              "      <td>168</td>\n",
              "      <td>0</td>\n",
              "      <td>1.0</td>\n",
              "      <td>2</td>\n",
              "      <td>2</td>\n",
              "      <td>3</td>\n",
              "      <td>0</td>\n",
              "    </tr>\n",
              "    <tr>\n",
              "      <th>1</th>\n",
              "      <td>53</td>\n",
              "      <td>1</td>\n",
              "      <td>0</td>\n",
              "      <td>140</td>\n",
              "      <td>203</td>\n",
              "      <td>1</td>\n",
              "      <td>0</td>\n",
              "      <td>155</td>\n",
              "      <td>1</td>\n",
              "      <td>3.1</td>\n",
              "      <td>0</td>\n",
              "      <td>0</td>\n",
              "      <td>3</td>\n",
              "      <td>0</td>\n",
              "    </tr>\n",
              "    <tr>\n",
              "      <th>2</th>\n",
              "      <td>70</td>\n",
              "      <td>1</td>\n",
              "      <td>0</td>\n",
              "      <td>145</td>\n",
              "      <td>174</td>\n",
              "      <td>0</td>\n",
              "      <td>1</td>\n",
              "      <td>125</td>\n",
              "      <td>1</td>\n",
              "      <td>2.6</td>\n",
              "      <td>0</td>\n",
              "      <td>0</td>\n",
              "      <td>3</td>\n",
              "      <td>0</td>\n",
              "    </tr>\n",
              "    <tr>\n",
              "      <th>3</th>\n",
              "      <td>61</td>\n",
              "      <td>1</td>\n",
              "      <td>0</td>\n",
              "      <td>148</td>\n",
              "      <td>203</td>\n",
              "      <td>0</td>\n",
              "      <td>1</td>\n",
              "      <td>161</td>\n",
              "      <td>0</td>\n",
              "      <td>0.0</td>\n",
              "      <td>2</td>\n",
              "      <td>1</td>\n",
              "      <td>3</td>\n",
              "      <td>0</td>\n",
              "    </tr>\n",
              "    <tr>\n",
              "      <th>4</th>\n",
              "      <td>62</td>\n",
              "      <td>0</td>\n",
              "      <td>0</td>\n",
              "      <td>138</td>\n",
              "      <td>294</td>\n",
              "      <td>1</td>\n",
              "      <td>1</td>\n",
              "      <td>106</td>\n",
              "      <td>0</td>\n",
              "      <td>1.9</td>\n",
              "      <td>1</td>\n",
              "      <td>3</td>\n",
              "      <td>2</td>\n",
              "      <td>0</td>\n",
              "    </tr>\n",
              "    <tr>\n",
              "      <th>5</th>\n",
              "      <td>58</td>\n",
              "      <td>0</td>\n",
              "      <td>0</td>\n",
              "      <td>100</td>\n",
              "      <td>248</td>\n",
              "      <td>0</td>\n",
              "      <td>0</td>\n",
              "      <td>122</td>\n",
              "      <td>0</td>\n",
              "      <td>1.0</td>\n",
              "      <td>1</td>\n",
              "      <td>0</td>\n",
              "      <td>2</td>\n",
              "      <td>1</td>\n",
              "    </tr>\n",
              "    <tr>\n",
              "      <th>6</th>\n",
              "      <td>58</td>\n",
              "      <td>1</td>\n",
              "      <td>0</td>\n",
              "      <td>114</td>\n",
              "      <td>318</td>\n",
              "      <td>0</td>\n",
              "      <td>2</td>\n",
              "      <td>140</td>\n",
              "      <td>0</td>\n",
              "      <td>4.4</td>\n",
              "      <td>0</td>\n",
              "      <td>3</td>\n",
              "      <td>1</td>\n",
              "      <td>0</td>\n",
              "    </tr>\n",
              "    <tr>\n",
              "      <th>7</th>\n",
              "      <td>55</td>\n",
              "      <td>1</td>\n",
              "      <td>0</td>\n",
              "      <td>160</td>\n",
              "      <td>289</td>\n",
              "      <td>0</td>\n",
              "      <td>0</td>\n",
              "      <td>145</td>\n",
              "      <td>1</td>\n",
              "      <td>0.8</td>\n",
              "      <td>1</td>\n",
              "      <td>1</td>\n",
              "      <td>3</td>\n",
              "      <td>0</td>\n",
              "    </tr>\n",
              "    <tr>\n",
              "      <th>8</th>\n",
              "      <td>46</td>\n",
              "      <td>1</td>\n",
              "      <td>0</td>\n",
              "      <td>120</td>\n",
              "      <td>249</td>\n",
              "      <td>0</td>\n",
              "      <td>0</td>\n",
              "      <td>144</td>\n",
              "      <td>0</td>\n",
              "      <td>0.8</td>\n",
              "      <td>2</td>\n",
              "      <td>0</td>\n",
              "      <td>3</td>\n",
              "      <td>0</td>\n",
              "    </tr>\n",
              "    <tr>\n",
              "      <th>9</th>\n",
              "      <td>54</td>\n",
              "      <td>1</td>\n",
              "      <td>0</td>\n",
              "      <td>122</td>\n",
              "      <td>286</td>\n",
              "      <td>0</td>\n",
              "      <td>0</td>\n",
              "      <td>116</td>\n",
              "      <td>1</td>\n",
              "      <td>3.2</td>\n",
              "      <td>1</td>\n",
              "      <td>2</td>\n",
              "      <td>2</td>\n",
              "      <td>0</td>\n",
              "    </tr>\n",
              "  </tbody>\n",
              "</table>\n",
              "</div>\n",
              "      <button class=\"colab-df-convert\" onclick=\"convertToInteractive('df-9403a209-4621-4395-ad96-84b885cbdb0b')\"\n",
              "              title=\"Convert this dataframe to an interactive table.\"\n",
              "              style=\"display:none;\">\n",
              "        \n",
              "  <svg xmlns=\"http://www.w3.org/2000/svg\" height=\"24px\"viewBox=\"0 0 24 24\"\n",
              "       width=\"24px\">\n",
              "    <path d=\"M0 0h24v24H0V0z\" fill=\"none\"/>\n",
              "    <path d=\"M18.56 5.44l.94 2.06.94-2.06 2.06-.94-2.06-.94-.94-2.06-.94 2.06-2.06.94zm-11 1L8.5 8.5l.94-2.06 2.06-.94-2.06-.94L8.5 2.5l-.94 2.06-2.06.94zm10 10l.94 2.06.94-2.06 2.06-.94-2.06-.94-.94-2.06-.94 2.06-2.06.94z\"/><path d=\"M17.41 7.96l-1.37-1.37c-.4-.4-.92-.59-1.43-.59-.52 0-1.04.2-1.43.59L10.3 9.45l-7.72 7.72c-.78.78-.78 2.05 0 2.83L4 21.41c.39.39.9.59 1.41.59.51 0 1.02-.2 1.41-.59l7.78-7.78 2.81-2.81c.8-.78.8-2.07 0-2.86zM5.41 20L4 18.59l7.72-7.72 1.47 1.35L5.41 20z\"/>\n",
              "  </svg>\n",
              "      </button>\n",
              "      \n",
              "  <style>\n",
              "    .colab-df-container {\n",
              "      display:flex;\n",
              "      flex-wrap:wrap;\n",
              "      gap: 12px;\n",
              "    }\n",
              "\n",
              "    .colab-df-convert {\n",
              "      background-color: #E8F0FE;\n",
              "      border: none;\n",
              "      border-radius: 50%;\n",
              "      cursor: pointer;\n",
              "      display: none;\n",
              "      fill: #1967D2;\n",
              "      height: 32px;\n",
              "      padding: 0 0 0 0;\n",
              "      width: 32px;\n",
              "    }\n",
              "\n",
              "    .colab-df-convert:hover {\n",
              "      background-color: #E2EBFA;\n",
              "      box-shadow: 0px 1px 2px rgba(60, 64, 67, 0.3), 0px 1px 3px 1px rgba(60, 64, 67, 0.15);\n",
              "      fill: #174EA6;\n",
              "    }\n",
              "\n",
              "    [theme=dark] .colab-df-convert {\n",
              "      background-color: #3B4455;\n",
              "      fill: #D2E3FC;\n",
              "    }\n",
              "\n",
              "    [theme=dark] .colab-df-convert:hover {\n",
              "      background-color: #434B5C;\n",
              "      box-shadow: 0px 1px 3px 1px rgba(0, 0, 0, 0.15);\n",
              "      filter: drop-shadow(0px 1px 2px rgba(0, 0, 0, 0.3));\n",
              "      fill: #FFFFFF;\n",
              "    }\n",
              "  </style>\n",
              "\n",
              "      <script>\n",
              "        const buttonEl =\n",
              "          document.querySelector('#df-9403a209-4621-4395-ad96-84b885cbdb0b button.colab-df-convert');\n",
              "        buttonEl.style.display =\n",
              "          google.colab.kernel.accessAllowed ? 'block' : 'none';\n",
              "\n",
              "        async function convertToInteractive(key) {\n",
              "          const element = document.querySelector('#df-9403a209-4621-4395-ad96-84b885cbdb0b');\n",
              "          const dataTable =\n",
              "            await google.colab.kernel.invokeFunction('convertToInteractive',\n",
              "                                                     [key], {});\n",
              "          if (!dataTable) return;\n",
              "\n",
              "          const docLinkHtml = 'Like what you see? Visit the ' +\n",
              "            '<a target=\"_blank\" href=https://colab.research.google.com/notebooks/data_table.ipynb>data table notebook</a>'\n",
              "            + ' to learn more about interactive tables.';\n",
              "          element.innerHTML = '';\n",
              "          dataTable['output_type'] = 'display_data';\n",
              "          await google.colab.output.renderOutput(dataTable, element);\n",
              "          const docLink = document.createElement('div');\n",
              "          docLink.innerHTML = docLinkHtml;\n",
              "          element.appendChild(docLink);\n",
              "        }\n",
              "      </script>\n",
              "    </div>\n",
              "  </div>\n",
              "  "
            ]
          },
          "metadata": {},
          "execution_count": 3
        }
      ]
    },
    {
      "cell_type": "code",
      "source": [
        "#melihat ukuran (baris & kolom)\n",
        "df_heart.shape"
      ],
      "metadata": {
        "id": "b4FPvcmfJnzY",
        "colab": {
          "base_uri": "https://localhost:8080/"
        },
        "outputId": "c46b56ca-de0c-4d8a-e4f9-1f71a591de21"
      },
      "execution_count": null,
      "outputs": [
        {
          "output_type": "execute_result",
          "data": {
            "text/plain": [
              "(1025, 14)"
            ]
          },
          "metadata": {},
          "execution_count": 4
        }
      ]
    },
    {
      "cell_type": "code",
      "source": [
        "#melihat informasi mengenai data heart apakah ada missing value atau nilau nul atau tidak, data tiap kolom dalam bentuk apa.\n",
        "\n",
        "df_heart.info()"
      ],
      "metadata": {
        "id": "SkFJlej-vEAm",
        "colab": {
          "base_uri": "https://localhost:8080/"
        },
        "outputId": "3bd9fa06-ff44-48b5-a708-5d51a9abde36"
      },
      "execution_count": null,
      "outputs": [
        {
          "output_type": "stream",
          "name": "stdout",
          "text": [
            "<class 'pandas.core.frame.DataFrame'>\n",
            "RangeIndex: 1025 entries, 0 to 1024\n",
            "Data columns (total 14 columns):\n",
            " #   Column    Non-Null Count  Dtype  \n",
            "---  ------    --------------  -----  \n",
            " 0   age       1025 non-null   int64  \n",
            " 1   sex       1025 non-null   int64  \n",
            " 2   cp        1025 non-null   int64  \n",
            " 3   trestbps  1025 non-null   int64  \n",
            " 4   chol      1025 non-null   int64  \n",
            " 5   fbs       1025 non-null   int64  \n",
            " 6   restecg   1025 non-null   int64  \n",
            " 7   thalach   1025 non-null   int64  \n",
            " 8   exang     1025 non-null   int64  \n",
            " 9   oldpeak   1025 non-null   float64\n",
            " 10  slope     1025 non-null   int64  \n",
            " 11  ca        1025 non-null   int64  \n",
            " 12  thal      1025 non-null   int64  \n",
            " 13  target    1025 non-null   int64  \n",
            "dtypes: float64(1), int64(13)\n",
            "memory usage: 112.2 KB\n"
          ]
        }
      ]
    },
    {
      "cell_type": "code",
      "source": [
        "#melihat deskripsi data\n",
        "df_heart.describe().T"
      ],
      "metadata": {
        "id": "z4joBXcBIlD9",
        "colab": {
          "base_uri": "https://localhost:8080/",
          "height": 488
        },
        "outputId": "3851082e-7f9c-4926-bbe0-50c22dc6e914"
      },
      "execution_count": null,
      "outputs": [
        {
          "output_type": "execute_result",
          "data": {
            "text/plain": [
              "           count        mean        std    min    25%    50%    75%    max\n",
              "age       1025.0   54.434146   9.072290   29.0   48.0   56.0   61.0   77.0\n",
              "sex       1025.0    0.695610   0.460373    0.0    0.0    1.0    1.0    1.0\n",
              "cp        1025.0    0.942439   1.029641    0.0    0.0    1.0    2.0    3.0\n",
              "trestbps  1025.0  131.611707  17.516718   94.0  120.0  130.0  140.0  200.0\n",
              "chol      1025.0  246.000000  51.592510  126.0  211.0  240.0  275.0  564.0\n",
              "fbs       1025.0    0.149268   0.356527    0.0    0.0    0.0    0.0    1.0\n",
              "restecg   1025.0    0.529756   0.527878    0.0    0.0    1.0    1.0    2.0\n",
              "thalach   1025.0  149.114146  23.005724   71.0  132.0  152.0  166.0  202.0\n",
              "exang     1025.0    0.336585   0.472772    0.0    0.0    0.0    1.0    1.0\n",
              "oldpeak   1025.0    1.071512   1.175053    0.0    0.0    0.8    1.8    6.2\n",
              "slope     1025.0    1.385366   0.617755    0.0    1.0    1.0    2.0    2.0\n",
              "ca        1025.0    0.754146   1.030798    0.0    0.0    0.0    1.0    4.0\n",
              "thal      1025.0    2.323902   0.620660    0.0    2.0    2.0    3.0    3.0\n",
              "target    1025.0    0.513171   0.500070    0.0    0.0    1.0    1.0    1.0"
            ],
            "text/html": [
              "\n",
              "  <div id=\"df-f3c4cede-8cae-4c35-84f5-5ec9e55b590d\">\n",
              "    <div class=\"colab-df-container\">\n",
              "      <div>\n",
              "<style scoped>\n",
              "    .dataframe tbody tr th:only-of-type {\n",
              "        vertical-align: middle;\n",
              "    }\n",
              "\n",
              "    .dataframe tbody tr th {\n",
              "        vertical-align: top;\n",
              "    }\n",
              "\n",
              "    .dataframe thead th {\n",
              "        text-align: right;\n",
              "    }\n",
              "</style>\n",
              "<table border=\"1\" class=\"dataframe\">\n",
              "  <thead>\n",
              "    <tr style=\"text-align: right;\">\n",
              "      <th></th>\n",
              "      <th>count</th>\n",
              "      <th>mean</th>\n",
              "      <th>std</th>\n",
              "      <th>min</th>\n",
              "      <th>25%</th>\n",
              "      <th>50%</th>\n",
              "      <th>75%</th>\n",
              "      <th>max</th>\n",
              "    </tr>\n",
              "  </thead>\n",
              "  <tbody>\n",
              "    <tr>\n",
              "      <th>age</th>\n",
              "      <td>1025.0</td>\n",
              "      <td>54.434146</td>\n",
              "      <td>9.072290</td>\n",
              "      <td>29.0</td>\n",
              "      <td>48.0</td>\n",
              "      <td>56.0</td>\n",
              "      <td>61.0</td>\n",
              "      <td>77.0</td>\n",
              "    </tr>\n",
              "    <tr>\n",
              "      <th>sex</th>\n",
              "      <td>1025.0</td>\n",
              "      <td>0.695610</td>\n",
              "      <td>0.460373</td>\n",
              "      <td>0.0</td>\n",
              "      <td>0.0</td>\n",
              "      <td>1.0</td>\n",
              "      <td>1.0</td>\n",
              "      <td>1.0</td>\n",
              "    </tr>\n",
              "    <tr>\n",
              "      <th>cp</th>\n",
              "      <td>1025.0</td>\n",
              "      <td>0.942439</td>\n",
              "      <td>1.029641</td>\n",
              "      <td>0.0</td>\n",
              "      <td>0.0</td>\n",
              "      <td>1.0</td>\n",
              "      <td>2.0</td>\n",
              "      <td>3.0</td>\n",
              "    </tr>\n",
              "    <tr>\n",
              "      <th>trestbps</th>\n",
              "      <td>1025.0</td>\n",
              "      <td>131.611707</td>\n",
              "      <td>17.516718</td>\n",
              "      <td>94.0</td>\n",
              "      <td>120.0</td>\n",
              "      <td>130.0</td>\n",
              "      <td>140.0</td>\n",
              "      <td>200.0</td>\n",
              "    </tr>\n",
              "    <tr>\n",
              "      <th>chol</th>\n",
              "      <td>1025.0</td>\n",
              "      <td>246.000000</td>\n",
              "      <td>51.592510</td>\n",
              "      <td>126.0</td>\n",
              "      <td>211.0</td>\n",
              "      <td>240.0</td>\n",
              "      <td>275.0</td>\n",
              "      <td>564.0</td>\n",
              "    </tr>\n",
              "    <tr>\n",
              "      <th>fbs</th>\n",
              "      <td>1025.0</td>\n",
              "      <td>0.149268</td>\n",
              "      <td>0.356527</td>\n",
              "      <td>0.0</td>\n",
              "      <td>0.0</td>\n",
              "      <td>0.0</td>\n",
              "      <td>0.0</td>\n",
              "      <td>1.0</td>\n",
              "    </tr>\n",
              "    <tr>\n",
              "      <th>restecg</th>\n",
              "      <td>1025.0</td>\n",
              "      <td>0.529756</td>\n",
              "      <td>0.527878</td>\n",
              "      <td>0.0</td>\n",
              "      <td>0.0</td>\n",
              "      <td>1.0</td>\n",
              "      <td>1.0</td>\n",
              "      <td>2.0</td>\n",
              "    </tr>\n",
              "    <tr>\n",
              "      <th>thalach</th>\n",
              "      <td>1025.0</td>\n",
              "      <td>149.114146</td>\n",
              "      <td>23.005724</td>\n",
              "      <td>71.0</td>\n",
              "      <td>132.0</td>\n",
              "      <td>152.0</td>\n",
              "      <td>166.0</td>\n",
              "      <td>202.0</td>\n",
              "    </tr>\n",
              "    <tr>\n",
              "      <th>exang</th>\n",
              "      <td>1025.0</td>\n",
              "      <td>0.336585</td>\n",
              "      <td>0.472772</td>\n",
              "      <td>0.0</td>\n",
              "      <td>0.0</td>\n",
              "      <td>0.0</td>\n",
              "      <td>1.0</td>\n",
              "      <td>1.0</td>\n",
              "    </tr>\n",
              "    <tr>\n",
              "      <th>oldpeak</th>\n",
              "      <td>1025.0</td>\n",
              "      <td>1.071512</td>\n",
              "      <td>1.175053</td>\n",
              "      <td>0.0</td>\n",
              "      <td>0.0</td>\n",
              "      <td>0.8</td>\n",
              "      <td>1.8</td>\n",
              "      <td>6.2</td>\n",
              "    </tr>\n",
              "    <tr>\n",
              "      <th>slope</th>\n",
              "      <td>1025.0</td>\n",
              "      <td>1.385366</td>\n",
              "      <td>0.617755</td>\n",
              "      <td>0.0</td>\n",
              "      <td>1.0</td>\n",
              "      <td>1.0</td>\n",
              "      <td>2.0</td>\n",
              "      <td>2.0</td>\n",
              "    </tr>\n",
              "    <tr>\n",
              "      <th>ca</th>\n",
              "      <td>1025.0</td>\n",
              "      <td>0.754146</td>\n",
              "      <td>1.030798</td>\n",
              "      <td>0.0</td>\n",
              "      <td>0.0</td>\n",
              "      <td>0.0</td>\n",
              "      <td>1.0</td>\n",
              "      <td>4.0</td>\n",
              "    </tr>\n",
              "    <tr>\n",
              "      <th>thal</th>\n",
              "      <td>1025.0</td>\n",
              "      <td>2.323902</td>\n",
              "      <td>0.620660</td>\n",
              "      <td>0.0</td>\n",
              "      <td>2.0</td>\n",
              "      <td>2.0</td>\n",
              "      <td>3.0</td>\n",
              "      <td>3.0</td>\n",
              "    </tr>\n",
              "    <tr>\n",
              "      <th>target</th>\n",
              "      <td>1025.0</td>\n",
              "      <td>0.513171</td>\n",
              "      <td>0.500070</td>\n",
              "      <td>0.0</td>\n",
              "      <td>0.0</td>\n",
              "      <td>1.0</td>\n",
              "      <td>1.0</td>\n",
              "      <td>1.0</td>\n",
              "    </tr>\n",
              "  </tbody>\n",
              "</table>\n",
              "</div>\n",
              "      <button class=\"colab-df-convert\" onclick=\"convertToInteractive('df-f3c4cede-8cae-4c35-84f5-5ec9e55b590d')\"\n",
              "              title=\"Convert this dataframe to an interactive table.\"\n",
              "              style=\"display:none;\">\n",
              "        \n",
              "  <svg xmlns=\"http://www.w3.org/2000/svg\" height=\"24px\"viewBox=\"0 0 24 24\"\n",
              "       width=\"24px\">\n",
              "    <path d=\"M0 0h24v24H0V0z\" fill=\"none\"/>\n",
              "    <path d=\"M18.56 5.44l.94 2.06.94-2.06 2.06-.94-2.06-.94-.94-2.06-.94 2.06-2.06.94zm-11 1L8.5 8.5l.94-2.06 2.06-.94-2.06-.94L8.5 2.5l-.94 2.06-2.06.94zm10 10l.94 2.06.94-2.06 2.06-.94-2.06-.94-.94-2.06-.94 2.06-2.06.94z\"/><path d=\"M17.41 7.96l-1.37-1.37c-.4-.4-.92-.59-1.43-.59-.52 0-1.04.2-1.43.59L10.3 9.45l-7.72 7.72c-.78.78-.78 2.05 0 2.83L4 21.41c.39.39.9.59 1.41.59.51 0 1.02-.2 1.41-.59l7.78-7.78 2.81-2.81c.8-.78.8-2.07 0-2.86zM5.41 20L4 18.59l7.72-7.72 1.47 1.35L5.41 20z\"/>\n",
              "  </svg>\n",
              "      </button>\n",
              "      \n",
              "  <style>\n",
              "    .colab-df-container {\n",
              "      display:flex;\n",
              "      flex-wrap:wrap;\n",
              "      gap: 12px;\n",
              "    }\n",
              "\n",
              "    .colab-df-convert {\n",
              "      background-color: #E8F0FE;\n",
              "      border: none;\n",
              "      border-radius: 50%;\n",
              "      cursor: pointer;\n",
              "      display: none;\n",
              "      fill: #1967D2;\n",
              "      height: 32px;\n",
              "      padding: 0 0 0 0;\n",
              "      width: 32px;\n",
              "    }\n",
              "\n",
              "    .colab-df-convert:hover {\n",
              "      background-color: #E2EBFA;\n",
              "      box-shadow: 0px 1px 2px rgba(60, 64, 67, 0.3), 0px 1px 3px 1px rgba(60, 64, 67, 0.15);\n",
              "      fill: #174EA6;\n",
              "    }\n",
              "\n",
              "    [theme=dark] .colab-df-convert {\n",
              "      background-color: #3B4455;\n",
              "      fill: #D2E3FC;\n",
              "    }\n",
              "\n",
              "    [theme=dark] .colab-df-convert:hover {\n",
              "      background-color: #434B5C;\n",
              "      box-shadow: 0px 1px 3px 1px rgba(0, 0, 0, 0.15);\n",
              "      filter: drop-shadow(0px 1px 2px rgba(0, 0, 0, 0.3));\n",
              "      fill: #FFFFFF;\n",
              "    }\n",
              "  </style>\n",
              "\n",
              "      <script>\n",
              "        const buttonEl =\n",
              "          document.querySelector('#df-f3c4cede-8cae-4c35-84f5-5ec9e55b590d button.colab-df-convert');\n",
              "        buttonEl.style.display =\n",
              "          google.colab.kernel.accessAllowed ? 'block' : 'none';\n",
              "\n",
              "        async function convertToInteractive(key) {\n",
              "          const element = document.querySelector('#df-f3c4cede-8cae-4c35-84f5-5ec9e55b590d');\n",
              "          const dataTable =\n",
              "            await google.colab.kernel.invokeFunction('convertToInteractive',\n",
              "                                                     [key], {});\n",
              "          if (!dataTable) return;\n",
              "\n",
              "          const docLinkHtml = 'Like what you see? Visit the ' +\n",
              "            '<a target=\"_blank\" href=https://colab.research.google.com/notebooks/data_table.ipynb>data table notebook</a>'\n",
              "            + ' to learn more about interactive tables.';\n",
              "          element.innerHTML = '';\n",
              "          dataTable['output_type'] = 'display_data';\n",
              "          await google.colab.output.renderOutput(dataTable, element);\n",
              "          const docLink = document.createElement('div');\n",
              "          docLink.innerHTML = docLinkHtml;\n",
              "          element.appendChild(docLink);\n",
              "        }\n",
              "      </script>\n",
              "    </div>\n",
              "  </div>\n",
              "  "
            ]
          },
          "metadata": {},
          "execution_count": 6
        }
      ]
    },
    {
      "cell_type": "code",
      "source": [
        "#rentang usia histogram\n",
        "def ageHist(df, n=10, judul=\"Distribusi Frekuensi\"):\n",
        "    freq, bin_edges = np.histogram(df, bins=n)\n",
        "    print(freq)\n",
        "    bin_edges = (bin_edges * 10).astype(int) / 10\n",
        "    print(bin_edges)\n",
        "\n",
        "    df.plot(kind=\"hist\", \n",
        "                 bins=n,\n",
        "                 xticks=bin_edges,\n",
        "                 figsize=(16,8),\n",
        "                 color=[\"darksalmon\"])\n",
        "\n",
        "    plt.title(judul)"
      ],
      "metadata": {
        "id": "S3dVYIXTvt6j"
      },
      "execution_count": null,
      "outputs": []
    },
    {
      "cell_type": "code",
      "source": [
        "#panggil function\n",
        "ageHist(df_heart[\"age\"], 30, \"Distribusi Frekuensi Berdasarkan Usia\")"
      ],
      "metadata": {
        "id": "qZX18Cp8EkNE",
        "colab": {
          "base_uri": "https://localhost:8080/",
          "height": 587
        },
        "outputId": "ac4b8959-0e2b-41d3-dcda-217bc37983a7"
      },
      "execution_count": null,
      "outputs": [
        {
          "output_type": "stream",
          "name": "stdout",
          "text": [
            "[  4   0   0  21   0  18  25  32  52  36  48  41  17  60  43  79  69  57\n",
            " 114  37  68  66  27  56  12  23  11   0   3   6]\n",
            "[29.  30.6 32.2 33.8 35.4 37.  38.6 40.2 41.8 43.4 45.  46.6 48.2 49.8\n",
            " 51.4 53.  54.6 56.2 57.8 59.4 61.  62.6 64.2 65.8 67.4 69.  70.6 72.2\n",
            " 73.8 75.4 77. ]\n"
          ]
        },
        {
          "output_type": "display_data",
          "data": {
            "text/plain": [
              "<Figure size 1152x576 with 1 Axes>"
            ],
            "image/png": "[encoded data removed]"
          },
          "metadata": {
            "needs_background": "light"
          }
        }
      ]
    },
    {
      "cell_type": "code",
      "source": [
        "#normalkan data\n",
        "\n",
        "sample_means = []\n",
        "# kita ambil 30 data dari data df_heart[\"age\"], hitung rata2nya, lakukan 300 kali\n",
        "n = 30\n",
        "for sample in range(0, 300):\n",
        "    # random sampling done with replacement\n",
        "    sample_values = np.random.choice(a= df_heart[\"age\"], size=n)    \n",
        "    sample_mean = np.mean(sample_values)\n",
        "    sample_means.append(sample_mean)\n",
        "    \n",
        "ageHist(pd.Series(sample_means), 20)"
      ],
      "metadata": {
        "id": "yH8boeVfMsTK",
        "colab": {
          "base_uri": "https://localhost:8080/",
          "height": 552
        },
        "outputId": "d3c4dee7-12ed-4e20-e6ae-3a0a6821d711"
      },
      "execution_count": null,
      "outputs": [
        {
          "output_type": "stream",
          "name": "stdout",
          "text": [
            "[ 1  3  3  4 15 13 16 25 31 43 33 32 31 21 15  7  4  1  1  1]\n",
            "[49.4 49.9 50.4 50.9 51.4 51.9 52.4 52.9 53.4 53.9 54.4 54.9 55.5 56.\n",
            " 56.5 57.  57.5 58.  58.5 59.  59.5]\n"
          ]
        },
        {
          "output_type": "display_data",
          "data": {
            "text/plain": [
              "<Figure size 1152x576 with 1 Axes>"
            ],
            "image/png": "[encoded data removed]"
          },
          "metadata": {
            "needs_background": "light"
          }
        }
      ]
    },
    {
      "cell_type": "markdown",
      "source": [
        "berdasarkan plot diatas dapat dilihat rata-rata usia orang yang memiliki penyakit jantung yang tinggi adalah adalah 54-55 tahun"
      ],
      "metadata": {
        "id": "9MHk9Dt_yPb0"
      }
    },
    {
      "cell_type": "code",
      "source": [
        "#data target (data orang yang miliki penyakit jantung dan tidak memiliki penyakit jantung)\n",
        "#dengan nilai integer 1 = memiliki penyakit jantung, 0 = tidak memiliki penyakit jantung\n",
        "\n",
        "df_target = df_heart[\"target\"].value_counts()\n",
        "df_target"
      ],
      "metadata": {
        "id": "S65hTea4RGPF",
        "colab": {
          "base_uri": "https://localhost:8080/"
        },
        "outputId": "be7399c2-d18c-47ea-dd50-b48a25318d04"
      },
      "execution_count": null,
      "outputs": [
        {
          "output_type": "execute_result",
          "data": {
            "text/plain": [
              "1    526\n",
              "0    499\n",
              "Name: target, dtype: int64"
            ]
          },
          "metadata": {},
          "execution_count": 10
        }
      ]
    },
    {
      "cell_type": "code",
      "source": [
        "#Visualisasi pie chart\n",
        "\n",
        "labels = \"Memilik penyakit Jantung\", \"Tidak Memilik Penyakit Jantung\"\n",
        "\n",
        "df_target.plot(kind=\"pie\",\n",
        "               colors=[\"indianred\", \"rosybrown\"],\n",
        "               shadow=True,\n",
        "               figsize=(11,5),\n",
        "               explode=[0, 0.1],\n",
        "               autopct='%1.1f%%',\n",
        "               startangle=90,\n",
        "               labels = None\n",
        ")\n",
        "\n",
        "plt.axis('equal') \n",
        "plt.legend(labels=labels, loc='upper left') \n",
        "plt.title(\"Persentase Orang Dengan Penyakit jantung vs Tidak Memilik penyakit jantung\", y=1.12)\n",
        "plt.xlabel(\"\")\n",
        "plt.ylabel(\"\")\n",
        "plt.show()"
      ],
      "metadata": {
        "id": "KtyQzGpwRYje",
        "colab": {
          "base_uri": "https://localhost:8080/",
          "height": 352
        },
        "outputId": "3befa96a-55d0-4e72-b567-6b4633b7350c"
      },
      "execution_count": null,
      "outputs": [
        {
          "output_type": "display_data",
          "data": {
            "text/plain": [
              "<Figure size 792x360 with 1 Axes>"
            ],
            "image/png": "[encoded data removed]"
          },
          "metadata": {}
        }
      ]
    },
    {
      "cell_type": "code",
      "source": [
        "#model prep\n",
        "\n",
        "target_heartd = df_heart[\"target\"]\n",
        "target_heartd.shape"
      ],
      "metadata": {
        "id": "oCp0wdUcZhMQ",
        "colab": {
          "base_uri": "https://localhost:8080/"
        },
        "outputId": "f7004899-71f9-4d77-e76b-ca2fe0f8528f"
      },
      "execution_count": null,
      "outputs": [
        {
          "output_type": "execute_result",
          "data": {
            "text/plain": [
              "(1025,)"
            ]
          },
          "metadata": {},
          "execution_count": 13
        }
      ]
    },
    {
      "cell_type": "code",
      "source": [
        "#get data\n",
        "#karena kita mau melihat classify data target dengan data keseluruhan heart \n",
        "#jadi data targetnya harus di drop untuk variabel x\n",
        "x = df_heart.drop('target', axis=1)\n",
        "y = df_heart[\"target\"]\n",
        "\n",
        "# split data jadi training dan testing data\n",
        "# 80% training and 20% test\n",
        "x_train, x_test, y_train, y_test = train_test_split(x, y, test_size =0.2, random_state=0)\n",
        "\n",
        "#display\n",
        "display(x_train.head())\n",
        "print(x_train.shape, x_test.shape)\n",
        "print(y_train.shape, y_test.shape)"
      ],
      "metadata": {
        "id": "21nqJtqNaR8L",
        "colab": {
          "base_uri": "https://localhost:8080/",
          "height": 241
        },
        "outputId": "3b77971d-3100-4e4a-95d5-17654151125e"
      },
      "execution_count": null,
      "outputs": [
        {
          "output_type": "display_data",
          "data": {
            "text/plain": [
              "      age  sex  cp  trestbps  chol  fbs  restecg  thalach  exang  oldpeak  \\\n",
              "315    42    1   3       148   244    0        0      178      0      0.8   \n",
              "204    66    0   2       146   278    0        0      152      0      0.0   \n",
              "363    53    1   2       130   246    1        0      173      0      0.0   \n",
              "5      58    0   0       100   248    0        0      122      0      1.0   \n",
              "1017   53    1   0       123   282    0        1       95      1      2.0   \n",
              "\n",
              "      slope  ca  thal  \n",
              "315       2   2     2  \n",
              "204       1   1     2  \n",
              "363       2   3     2  \n",
              "5         1   0     2  \n",
              "1017      1   2     3  "
            ],
            "text/html": [
              "\n",
              "  <div id=\"df-0528d5e1-2b3d-4294-8148-ad35eae54f4c\">\n",
              "    <div class=\"colab-df-container\">\n",
              "      <div>\n",
              "<style scoped>\n",
              "    .dataframe tbody tr th:only-of-type {\n",
              "        vertical-align: middle;\n",
              "    }\n",
              "\n",
              "    .dataframe tbody tr th {\n",
              "        vertical-align: top;\n",
              "    }\n",
              "\n",
              "    .dataframe thead th {\n",
              "        text-align: right;\n",
              "    }\n",
              "</style>\n",
              "<table border=\"1\" class=\"dataframe\">\n",
              "  <thead>\n",
              "    <tr style=\"text-align: right;\">\n",
              "      <th></th>\n",
              "      <th>age</th>\n",
              "      <th>sex</th>\n",
              "      <th>cp</th>\n",
              "      <th>trestbps</th>\n",
              "      <th>chol</th>\n",
              "      <th>fbs</th>\n",
              "      <th>restecg</th>\n",
              "      <th>thalach</th>\n",
              "      <th>exang</th>\n",
              "      <th>oldpeak</th>\n",
              "      <th>slope</th>\n",
              "      <th>ca</th>\n",
              "      <th>thal</th>\n",
              "    </tr>\n",
              "  </thead>\n",
              "  <tbody>\n",
              "    <tr>\n",
              "      <th>315</th>\n",
              "      <td>42</td>\n",
              "      <td>1</td>\n",
              "      <td>3</td>\n",
              "      <td>148</td>\n",
              "      <td>244</td>\n",
              "      <td>0</td>\n",
              "      <td>0</td>\n",
              "      <td>178</td>\n",
              "      <td>0</td>\n",
              "      <td>0.8</td>\n",
              "      <td>2</td>\n",
              "      <td>2</td>\n",
              "      <td>2</td>\n",
              "    </tr>\n",
              "    <tr>\n",
              "      <th>204</th>\n",
              "      <td>66</td>\n",
              "      <td>0</td>\n",
              "      <td>2</td>\n",
              "      <td>146</td>\n",
              "      <td>278</td>\n",
              "      <td>0</td>\n",
              "      <td>0</td>\n",
              "      <td>152</td>\n",
              "      <td>0</td>\n",
              "      <td>0.0</td>\n",
              "      <td>1</td>\n",
              "      <td>1</td>\n",
              "      <td>2</td>\n",
              "    </tr>\n",
              "    <tr>\n",
              "      <th>363</th>\n",
              "      <td>53</td>\n",
              "      <td>1</td>\n",
              "      <td>2</td>\n",
              "      <td>130</td>\n",
              "      <td>246</td>\n",
              "      <td>1</td>\n",
              "      <td>0</td>\n",
              "      <td>173</td>\n",
              "      <td>0</td>\n",
              "      <td>0.0</td>\n",
              "      <td>2</td>\n",
              "      <td>3</td>\n",
              "      <td>2</td>\n",
              "    </tr>\n",
              "    <tr>\n",
              "      <th>5</th>\n",
              "      <td>58</td>\n",
              "      <td>0</td>\n",
              "      <td>0</td>\n",
              "      <td>100</td>\n",
              "      <td>248</td>\n",
              "      <td>0</td>\n",
              "      <td>0</td>\n",
              "      <td>122</td>\n",
              "      <td>0</td>\n",
              "      <td>1.0</td>\n",
              "      <td>1</td>\n",
              "      <td>0</td>\n",
              "      <td>2</td>\n",
              "    </tr>\n",
              "    <tr>\n",
              "      <th>1017</th>\n",
              "      <td>53</td>\n",
              "      <td>1</td>\n",
              "      <td>0</td>\n",
              "      <td>123</td>\n",
              "      <td>282</td>\n",
              "      <td>0</td>\n",
              "      <td>1</td>\n",
              "      <td>95</td>\n",
              "      <td>1</td>\n",
              "      <td>2.0</td>\n",
              "      <td>1</td>\n",
              "      <td>2</td>\n",
              "      <td>3</td>\n",
              "    </tr>\n",
              "  </tbody>\n",
              "</table>\n",
              "</div>\n",
              "      <button class=\"colab-df-convert\" onclick=\"convertToInteractive('df-0528d5e1-2b3d-4294-8148-ad35eae54f4c')\"\n",
              "              title=\"Convert this dataframe to an interactive table.\"\n",
              "              style=\"display:none;\">\n",
              "        \n",
              "  <svg xmlns=\"http://www.w3.org/2000/svg\" height=\"24px\"viewBox=\"0 0 24 24\"\n",
              "       width=\"24px\">\n",
              "    <path d=\"M0 0h24v24H0V0z\" fill=\"none\"/>\n",
              "    <path d=\"M18.56 5.44l.94 2.06.94-2.06 2.06-.94-2.06-.94-.94-2.06-.94 2.06-2.06.94zm-11 1L8.5 8.5l.94-2.06 2.06-.94-2.06-.94L8.5 2.5l-.94 2.06-2.06.94zm10 10l.94 2.06.94-2.06 2.06-.94-2.06-.94-.94-2.06-.94 2.06-2.06.94z\"/><path d=\"M17.41 7.96l-1.37-1.37c-.4-.4-.92-.59-1.43-.59-.52 0-1.04.2-1.43.59L10.3 9.45l-7.72 7.72c-.78.78-.78 2.05 0 2.83L4 21.41c.39.39.9.59 1.41.59.51 0 1.02-.2 1.41-.59l7.78-7.78 2.81-2.81c.8-.78.8-2.07 0-2.86zM5.41 20L4 18.59l7.72-7.72 1.47 1.35L5.41 20z\"/>\n",
              "  </svg>\n",
              "      </button>\n",
              "      \n",
              "  <style>\n",
              "    .colab-df-container {\n",
              "      display:flex;\n",
              "      flex-wrap:wrap;\n",
              "      gap: 12px;\n",
              "    }\n",
              "\n",
              "    .colab-df-convert {\n",
              "      background-color: #E8F0FE;\n",
              "      border: none;\n",
              "      border-radius: 50%;\n",
              "      cursor: pointer;\n",
              "      display: none;\n",
              "      fill: #1967D2;\n",
              "      height: 32px;\n",
              "      padding: 0 0 0 0;\n",
              "      width: 32px;\n",
              "    }\n",
              "\n",
              "    .colab-df-convert:hover {\n",
              "      background-color: #E2EBFA;\n",
              "      box-shadow: 0px 1px 2px rgba(60, 64, 67, 0.3), 0px 1px 3px 1px rgba(60, 64, 67, 0.15);\n",
              "      fill: #174EA6;\n",
              "    }\n",
              "\n",
              "    [theme=dark] .colab-df-convert {\n",
              "      background-color: #3B4455;\n",
              "      fill: #D2E3FC;\n",
              "    }\n",
              "\n",
              "    [theme=dark] .colab-df-convert:hover {\n",
              "      background-color: #434B5C;\n",
              "      box-shadow: 0px 1px 3px 1px rgba(0, 0, 0, 0.15);\n",
              "      filter: drop-shadow(0px 1px 2px rgba(0, 0, 0, 0.3));\n",
              "      fill: #FFFFFF;\n",
              "    }\n",
              "  </style>\n",
              "\n",
              "      <script>\n",
              "        const buttonEl =\n",
              "          document.querySelector('#df-0528d5e1-2b3d-4294-8148-ad35eae54f4c button.colab-df-convert');\n",
              "        buttonEl.style.display =\n",
              "          google.colab.kernel.accessAllowed ? 'block' : 'none';\n",
              "\n",
              "        async function convertToInteractive(key) {\n",
              "          const element = document.querySelector('#df-0528d5e1-2b3d-4294-8148-ad35eae54f4c');\n",
              "          const dataTable =\n",
              "            await google.colab.kernel.invokeFunction('convertToInteractive',\n",
              "                                                     [key], {});\n",
              "          if (!dataTable) return;\n",
              "\n",
              "          const docLinkHtml = 'Like what you see? Visit the ' +\n",
              "            '<a target=\"_blank\" href=https://colab.research.google.com/notebooks/data_table.ipynb>data table notebook</a>'\n",
              "            + ' to learn more about interactive tables.';\n",
              "          element.innerHTML = '';\n",
              "          dataTable['output_type'] = 'display_data';\n",
              "          await google.colab.output.renderOutput(dataTable, element);\n",
              "          const docLink = document.createElement('div');\n",
              "          docLink.innerHTML = docLinkHtml;\n",
              "          element.appendChild(docLink);\n",
              "        }\n",
              "      </script>\n",
              "    </div>\n",
              "  </div>\n",
              "  "
            ]
          },
          "metadata": {}
        },
        {
          "output_type": "stream",
          "name": "stdout",
          "text": [
            "(820, 13) (205, 13)\n",
            "(820,) (205,)\n"
          ]
        }
      ]
    },
    {
      "cell_type": "markdown",
      "source": [
        "## **MODEL**"
      ],
      "metadata": {
        "id": "P81xtRtochns"
      }
    },
    {
      "cell_type": "markdown",
      "source": [
        " **Logistic Regression**"
      ],
      "metadata": {
        "id": "Arjzuwi_09tJ"
      }
    },
    {
      "cell_type": "code",
      "source": [
        "# Logistic Regression\n",
        "#note : parameter yang digunakan disini menggunakan parameter default \n",
        "#membuat model dan latih\n",
        "\n",
        "model_lr = LogisticRegression(solver='liblinear')\n",
        "model_lr.fit(x_train, y_train)"
      ],
      "metadata": {
        "id": "H-GS2h204han",
        "colab": {
          "base_uri": "https://localhost:8080/"
        },
        "outputId": "b826fa41-17f0-4cb7-ecb8-32db8cae10a5"
      },
      "execution_count": null,
      "outputs": [
        {
          "output_type": "execute_result",
          "data": {
            "text/plain": [
              "LogisticRegression(solver='liblinear')"
            ]
          },
          "metadata": {},
          "execution_count": 15
        }
      ]
    },
    {
      "cell_type": "code",
      "source": [
        "#Kita bisa mendapatkan predicted outputs dengan .predict():\n",
        "y_pred = model_lr.predict(x_test)"
      ],
      "metadata": {
        "id": "oXiazkALsq2c"
      },
      "execution_count": null,
      "outputs": []
    },
    {
      "cell_type": "code",
      "source": [
        "# Kita bisa mendapatkan akurasi dengan .score():\n",
        "# jika situasi di mana akurasi set pelatihan jauh lebih tinggi mungkin mengindikasikan overfitting\n",
        "\n",
        "#score training\n",
        "score_training = model_lr.score(x_train, y_train)\n",
        "print(\"hasil dari score training : \")\n",
        "print(score_training)\n",
        "\n",
        "#score test\n",
        "score_test = model_lr.score(x_test, y_test)\n",
        "print(\"hasil dari  score test : \")\n",
        "print(score_test)"
      ],
      "metadata": {
        "id": "_YFkyDwVtKBj",
        "colab": {
          "base_uri": "https://localhost:8080/"
        },
        "outputId": "b3aa4fe2-d8af-4c32-88c8-d94aef48b21d"
      },
      "execution_count": null,
      "outputs": [
        {
          "output_type": "stream",
          "name": "stdout",
          "text": [
            "hasil dari score training : \n",
            "0.8609756097560975\n",
            "hasil dari  score test : \n",
            "0.8682926829268293\n"
          ]
        }
      ]
    },
    {
      "cell_type": "code",
      "source": [
        "#confusion matrix display dapat dilihat pada sklearn.metrics.confusionMatrixDisplay\n",
        "\n",
        "predictions = model_lr.predict(x_test)\n",
        "cm = confusion_matrix(y_test, predictions, labels=model_lr.classes_)\n",
        "disp = ConfusionMatrixDisplay(confusion_matrix=cm,\n",
        "                              display_labels=model_lr.classes_,\n",
        "                              )\n",
        "disp.plot(cmap='Reds')\n",
        "plt.grid(False)\n",
        "plt.title(\"Confusion Matrix\")\n",
        "plt.show()"
      ],
      "metadata": {
        "id": "5qRyfbTc-76G",
        "colab": {
          "base_uri": "https://localhost:8080/",
          "height": 299
        },
        "outputId": "71c91b10-7039-4584-c55e-086b2e704b3c"
      },
      "execution_count": null,
      "outputs": [
        {
          "output_type": "display_data",
          "data": {
            "text/plain": [
              "<Figure size 432x288 with 2 Axes>"
            ],
            "image/png": "[encoded data removed]"
          },
          "metadata": {
            "needs_background": "light"
          }
        }
      ]
    },
    {
      "cell_type": "markdown",
      "source": [
        "evaluasi confussion matrix :\n",
        "TN : 77\n",
        "FN : 7\n",
        "FP : 21\n",
        "TP : 100\n"
      ],
      "metadata": {
        "id": "Ph1gH9ReHr8O"
      }
    },
    {
      "cell_type": "code",
      "source": [
        "#laporan klasifikasi sebagai string atau dictionary \n",
        "#dengan classification_report():\n",
        "\n",
        "print(classification_report(y_test, y_pred))"
      ],
      "metadata": {
        "id": "v7ksNudd0kMZ",
        "colab": {
          "base_uri": "https://localhost:8080/"
        },
        "outputId": "26ccf67d-f94f-439d-c9c6-d7837081e13b"
      },
      "execution_count": null,
      "outputs": [
        {
          "output_type": "stream",
          "name": "stdout",
          "text": [
            "              precision    recall  f1-score   support\n",
            "\n",
            "           0       0.92      0.80      0.85        98\n",
            "           1       0.83      0.93      0.88       107\n",
            "\n",
            "    accuracy                           0.87       205\n",
            "   macro avg       0.88      0.87      0.87       205\n",
            "weighted avg       0.87      0.87      0.87       205\n",
            "\n"
          ]
        }
      ]
    },
    {
      "cell_type": "markdown",
      "source": [
        "**K-Nearest Neighbor (KNN)**"
      ],
      "metadata": {
        "id": "9XyIXZwSb5pj"
      }
    },
    {
      "cell_type": "code",
      "source": [
        "# KNeighbors Classifier\n",
        "\n",
        "model_Knnc = KNeighborsClassifier()\n",
        "model_Knnc.fit(x_train, y_train)"
      ],
      "metadata": {
        "id": "zfU69tzKOEZV",
        "colab": {
          "base_uri": "https://localhost:8080/"
        },
        "outputId": "17794d2a-b427-4063-d9c2-cc84a75b0de8"
      },
      "execution_count": null,
      "outputs": [
        {
          "output_type": "execute_result",
          "data": {
            "text/plain": [
              "KNeighborsClassifier()"
            ]
          },
          "metadata": {},
          "execution_count": 20
        }
      ]
    },
    {
      "cell_type": "code",
      "source": [
        "y_predknn = model_Knnc.predict(x_test)"
      ],
      "metadata": {
        "id": "D8zoKWYceFN6"
      },
      "execution_count": null,
      "outputs": []
    },
    {
      "cell_type": "code",
      "source": [
        "#score training\n",
        "score_training = model_Knnc.score(x_train, y_train)\n",
        "print(\"hasil dari score training : \")\n",
        "print(score_training)\n",
        "\n",
        "#score test\n",
        "score_test = model_Knnc.score(x_test, y_test)\n",
        "print(\"hasil dari  score test : \")\n",
        "print(score_test)"
      ],
      "metadata": {
        "id": "2DCUOd-nbkZQ",
        "colab": {
          "base_uri": "https://localhost:8080/"
        },
        "outputId": "bd11d2ac-888d-4f48-ed86-063dad246a64"
      },
      "execution_count": null,
      "outputs": [
        {
          "output_type": "stream",
          "name": "stdout",
          "text": [
            "hasil dari score training : \n",
            "0.9170731707317074\n",
            "hasil dari  score test : \n",
            "0.7463414634146341\n"
          ]
        }
      ]
    },
    {
      "cell_type": "markdown",
      "source": [
        "berdasarkan perbandingan score diatas kemungkinan terjadi overfitting"
      ],
      "metadata": {
        "id": "Q9MxzmqDewin"
      }
    },
    {
      "cell_type": "code",
      "source": [
        "#confusion matrix display dapat dilihat pada sklearn.metrics.confusionMatrixDisplay\n",
        "\n",
        "predictions = model_Knnc.predict(x_test)\n",
        "cm = confusion_matrix(y_test, predictions, labels=model_Knnc.classes_)\n",
        "disp = ConfusionMatrixDisplay(confusion_matrix=cm,\n",
        "                              display_labels=model_Knnc.classes_,\n",
        "                              )\n",
        "disp.plot(cmap='Blues')\n",
        "plt.grid(False)\n",
        "plt.title(\"Confusion Matrix\")\n",
        "plt.show()"
      ],
      "metadata": {
        "id": "CLlH08ZOcMac",
        "colab": {
          "base_uri": "https://localhost:8080/",
          "height": 299
        },
        "outputId": "5ff1c8c6-8074-4b2e-eb27-c796ff9c7a24"
      },
      "execution_count": null,
      "outputs": [
        {
          "output_type": "display_data",
          "data": {
            "text/plain": [
              "<Figure size 432x288 with 2 Axes>"
            ],
            "image/png": "[encoded data removed]"
          },
          "metadata": {
            "needs_background": "light"
          }
        }
      ]
    },
    {
      "cell_type": "code",
      "source": [
        "#laporan klasifikasi sebagai string atau dictionary \n",
        "#dengan classification_report():\n",
        "\n",
        "print(classification_report(y_test, y_predknn))"
      ],
      "metadata": {
        "id": "1O0L-CQ8dMIV",
        "colab": {
          "base_uri": "https://localhost:8080/"
        },
        "outputId": "9bc29714-0424-43f4-dca2-8f0ed19f6fbb"
      },
      "execution_count": null,
      "outputs": [
        {
          "output_type": "stream",
          "name": "stdout",
          "text": [
            "              precision    recall  f1-score   support\n",
            "\n",
            "           0       0.73      0.76      0.74        98\n",
            "           1       0.77      0.74      0.75       107\n",
            "\n",
            "    accuracy                           0.75       205\n",
            "   macro avg       0.75      0.75      0.75       205\n",
            "weighted avg       0.75      0.75      0.75       205\n",
            "\n"
          ]
        }
      ]
    },
    {
      "cell_type": "markdown",
      "source": [
        "**Random Forest**"
      ],
      "metadata": {
        "id": "qgsjG0LQfd5G"
      }
    },
    {
      "cell_type": "code",
      "source": [
        "#Random Forest\n",
        "\n",
        "model_rf = RandomForestClassifier(n_estimators=100)\n",
        "model_rf.fit(x_train, y_train)"
      ],
      "metadata": {
        "id": "cLiCVXLZfmAs",
        "colab": {
          "base_uri": "https://localhost:8080/"
        },
        "outputId": "84e3122e-b5f6-4a24-813f-3c244dfd7537"
      },
      "execution_count": null,
      "outputs": [
        {
          "output_type": "execute_result",
          "data": {
            "text/plain": [
              "RandomForestClassifier()"
            ]
          },
          "metadata": {},
          "execution_count": 25
        }
      ]
    },
    {
      "cell_type": "code",
      "source": [
        "y_predrf = model_rf.predict(x_test)"
      ],
      "metadata": {
        "id": "ZEznYMROmy2o"
      },
      "execution_count": null,
      "outputs": []
    },
    {
      "cell_type": "code",
      "source": [
        "#score training\n",
        "score_training = model_rf.score(x_train, y_train)\n",
        "print(\"hasil dari score training : \")\n",
        "print(score_training)\n",
        "\n",
        "#score test\n",
        "score_test = model_rf.score(x_test, y_test)\n",
        "print(\"hasil dari  score test : \")\n",
        "print(score_test)"
      ],
      "metadata": {
        "id": "JDz_rJp8gbEB",
        "colab": {
          "base_uri": "https://localhost:8080/"
        },
        "outputId": "9c486a51-279e-4679-a440-3e7403cde7b5"
      },
      "execution_count": null,
      "outputs": [
        {
          "output_type": "stream",
          "name": "stdout",
          "text": [
            "hasil dari score training : \n",
            "1.0\n",
            "hasil dari  score test : \n",
            "1.0\n"
          ]
        }
      ]
    },
    {
      "cell_type": "markdown",
      "source": [
        "perbandingan score training dan score testing adalah sama yaitu 100%, kemungkinan terjadi overfitting"
      ],
      "metadata": {
        "id": "kbIK3rxcjvrB"
      }
    },
    {
      "cell_type": "code",
      "source": [
        "#confusion matrix display dapat dilihat pada sklearn.metrics.confusionMatrixDisplay\n",
        "\n",
        "predictions = model_rf.predict(x_test)\n",
        "cm = confusion_matrix(y_test, predictions, labels=model_rf.classes_)\n",
        "disp = ConfusionMatrixDisplay(confusion_matrix=cm,\n",
        "                              display_labels=model_rf.classes_,\n",
        "                              )\n",
        "disp.plot(cmap='Greens')\n",
        "plt.grid(False)\n",
        "plt.title(\"Confusion Matrix\")\n",
        "plt.show()"
      ],
      "metadata": {
        "id": "DmWmS6KfkFu-",
        "colab": {
          "base_uri": "https://localhost:8080/",
          "height": 299
        },
        "outputId": "4914660c-e791-454b-be87-bb25fb602e77"
      },
      "execution_count": null,
      "outputs": [
        {
          "output_type": "display_data",
          "data": {
            "text/plain": [
              "<Figure size 432x288 with 2 Axes>"
            ],
            "image/png": "[encoded data removed]"
          },
          "metadata": {
            "needs_background": "light"
          }
        }
      ]
    },
    {
      "cell_type": "code",
      "source": [
        "#laporan klasifikasi \n",
        "#dengan classification_report():\n",
        "\n",
        "print(classification_report(y_test, y_predrf))"
      ],
      "metadata": {
        "id": "7PfSc4yukpbo",
        "colab": {
          "base_uri": "https://localhost:8080/"
        },
        "outputId": "42054f8d-a840-4137-f4ab-5aff5b69317f"
      },
      "execution_count": null,
      "outputs": [
        {
          "output_type": "stream",
          "name": "stdout",
          "text": [
            "              precision    recall  f1-score   support\n",
            "\n",
            "           0       1.00      1.00      1.00        98\n",
            "           1       1.00      1.00      1.00       107\n",
            "\n",
            "    accuracy                           1.00       205\n",
            "   macro avg       1.00      1.00      1.00       205\n",
            "weighted avg       1.00      1.00      1.00       205\n",
            "\n"
          ]
        }
      ]
    },
    {
      "cell_type": "markdown",
      "source": [
        "**SUPORT VECTOR MACHINE**"
      ],
      "metadata": {
        "id": "9g4QkUf_mDjM"
      }
    },
    {
      "cell_type": "code",
      "source": [
        "#Support Vector Machine\n",
        "model_svm = svm.SVC()\n",
        "model_svm.fit(x_train, y_train)"
      ],
      "metadata": {
        "id": "0u8On5LcmJIl",
        "colab": {
          "base_uri": "https://localhost:8080/"
        },
        "outputId": "40f4ff4c-c6f4-4fdd-89ff-c9d89a6d62c8"
      },
      "execution_count": null,
      "outputs": [
        {
          "output_type": "execute_result",
          "data": {
            "text/plain": [
              "SVC()"
            ]
          },
          "metadata": {},
          "execution_count": 30
        }
      ]
    },
    {
      "cell_type": "code",
      "source": [
        "y_predsvm = model_svm.predict(x_test)"
      ],
      "metadata": {
        "id": "Ts_0RTLIqHBS"
      },
      "execution_count": null,
      "outputs": []
    },
    {
      "cell_type": "code",
      "source": [
        "#score training\n",
        "score_training = model_svm.score(x_train, y_train)\n",
        "print(\"hasil dari score training : \")\n",
        "print(score_training)\n",
        "\n",
        "#score test\n",
        "score_test = model_svm.score(x_test, y_test)\n",
        "print(\"hasil dari  score test : \")\n",
        "print(score_test)"
      ],
      "metadata": {
        "id": "Zw-_u3DvqVnf",
        "colab": {
          "base_uri": "https://localhost:8080/"
        },
        "outputId": "5e07fcf9-3d60-4016-edb2-7979565d7f98"
      },
      "execution_count": null,
      "outputs": [
        {
          "output_type": "stream",
          "name": "stdout",
          "text": [
            "hasil dari score training : \n",
            "0.7024390243902439\n",
            "hasil dari  score test : \n",
            "0.7463414634146341\n"
          ]
        }
      ]
    },
    {
      "cell_type": "code",
      "source": [
        "#confusion matrix display dapat dilihat pada sklearn.metrics.confusionMatrixDisplay\n",
        "\n",
        "predictions = model_svm.predict(x_test)\n",
        "cm = confusion_matrix(y_test, predictions, labels=model_svm.classes_)\n",
        "disp = ConfusionMatrixDisplay(confusion_matrix=cm,\n",
        "                              display_labels=model_svm.classes_,\n",
        "                              )\n",
        "disp.plot(cmap='Oranges')\n",
        "plt.grid(False)\n",
        "plt.title(\"Confusion Matrix\")\n",
        "plt.show()"
      ],
      "metadata": {
        "id": "Vt1SGevkrSpD",
        "colab": {
          "base_uri": "https://localhost:8080/",
          "height": 299
        },
        "outputId": "c6b84534-84b2-4405-a43f-dce908d6daf4"
      },
      "execution_count": null,
      "outputs": [
        {
          "output_type": "display_data",
          "data": {
            "text/plain": [
              "<Figure size 432x288 with 2 Axes>"
            ],
            "image/png": "[encoded data removed]"
          },
          "metadata": {
            "needs_background": "light"
          }
        }
      ]
    },
    {
      "cell_type": "code",
      "source": [
        "#laporan klasifikasi sebagai string atau dictionary \n",
        "#dengan classification_report():\n",
        "\n",
        "print(classification_report(y_test, y_predsvm))"
      ],
      "metadata": {
        "id": "vWtYgmjMrvsW",
        "colab": {
          "base_uri": "https://localhost:8080/"
        },
        "outputId": "3b15b626-7818-4965-c5e3-240567bc10d7"
      },
      "execution_count": null,
      "outputs": [
        {
          "output_type": "stream",
          "name": "stdout",
          "text": [
            "              precision    recall  f1-score   support\n",
            "\n",
            "           0       0.77      0.67      0.72        98\n",
            "           1       0.73      0.81      0.77       107\n",
            "\n",
            "    accuracy                           0.75       205\n",
            "   macro avg       0.75      0.74      0.74       205\n",
            "weighted avg       0.75      0.75      0.74       205\n",
            "\n"
          ]
        }
      ]
    },
    {
      "cell_type": "markdown",
      "source": [
        "**DECISION TREE**"
      ],
      "metadata": {
        "id": "cgZIVPGCsk3I"
      }
    },
    {
      "cell_type": "code",
      "source": [
        "#Decision Tree\n",
        "model_dt = DecisionTreeClassifier()\n",
        "model_dt.fit(x_train, y_train)"
      ],
      "metadata": {
        "id": "kvxgcMXpsqP-",
        "colab": {
          "base_uri": "https://localhost:8080/"
        },
        "outputId": "6f0ade8c-fc32-423b-ae08-d437abb36e3b"
      },
      "execution_count": null,
      "outputs": [
        {
          "output_type": "execute_result",
          "data": {
            "text/plain": [
              "DecisionTreeClassifier()"
            ]
          },
          "metadata": {},
          "execution_count": 35
        }
      ]
    },
    {
      "cell_type": "code",
      "source": [
        "y_preddt = model_dt.predict(x_test)"
      ],
      "metadata": {
        "id": "ksA8e8DIs20L"
      },
      "execution_count": null,
      "outputs": []
    },
    {
      "cell_type": "code",
      "source": [
        "#score training\n",
        "score_training = model_dt.score(x_train, y_train)\n",
        "print(\"hasil dari score training : \")\n",
        "print(score_training)\n",
        "\n",
        "#score test\n",
        "score_test = model_dt.score(x_test, y_test)\n",
        "print(\"hasil dari  score test : \")\n",
        "print(score_test)"
      ],
      "metadata": {
        "id": "3f7DbjattBSK",
        "colab": {
          "base_uri": "https://localhost:8080/"
        },
        "outputId": "963358c4-7d46-4c60-b433-152c6e05c27d"
      },
      "execution_count": null,
      "outputs": [
        {
          "output_type": "stream",
          "name": "stdout",
          "text": [
            "hasil dari score training : \n",
            "1.0\n",
            "hasil dari  score test : \n",
            "1.0\n"
          ]
        }
      ]
    },
    {
      "cell_type": "code",
      "source": [
        "#confusion matrix display dapat dilihat pada sklearn.metrics.confusionMatrixDisplay\n",
        "\n",
        "predictions = model_dt.predict(x_test)\n",
        "cm = confusion_matrix(y_test, predictions, labels=model_dt.classes_)\n",
        "disp = ConfusionMatrixDisplay(confusion_matrix=cm,\n",
        "                              display_labels=model_dt.classes_,\n",
        "                              )\n",
        "disp.plot(cmap='Purples')\n",
        "plt.grid(False)\n",
        "plt.title(\"Confusion Matrix\")\n",
        "plt.show()"
      ],
      "metadata": {
        "id": "aHh0VHUDuNiq",
        "colab": {
          "base_uri": "https://localhost:8080/",
          "height": 299
        },
        "outputId": "4a4812c5-13fd-4af5-cb61-6864dbfc7559"
      },
      "execution_count": null,
      "outputs": [
        {
          "output_type": "display_data",
          "data": {
            "text/plain": [
              "<Figure size 432x288 with 2 Axes>"
            ],
            "image/png": "[encoded data removed]"
          },
          "metadata": {
            "needs_background": "light"
          }
        }
      ]
    },
    {
      "cell_type": "code",
      "source": [
        "#laporan klasifikasi sebagai string atau dictionary \n",
        "#dengan classification_report():\n",
        "\n",
        "print(classification_report(y_test, y_preddt))"
      ],
      "metadata": {
        "id": "AKvblipnv-vH",
        "colab": {
          "base_uri": "https://localhost:8080/"
        },
        "outputId": "cfefa4b9-8c25-4477-ea14-773eac534ce5"
      },
      "execution_count": null,
      "outputs": [
        {
          "output_type": "stream",
          "name": "stdout",
          "text": [
            "              precision    recall  f1-score   support\n",
            "\n",
            "           0       1.00      1.00      1.00        98\n",
            "           1       1.00      1.00      1.00       107\n",
            "\n",
            "    accuracy                           1.00       205\n",
            "   macro avg       1.00      1.00      1.00       205\n",
            "weighted avg       1.00      1.00      1.00       205\n",
            "\n"
          ]
        }
      ]
    },
    {
      "cell_type": "markdown",
      "source": [
        "**Naive Bayes**"
      ],
      "metadata": {
        "id": "DhT-TTaju77Q"
      }
    },
    {
      "cell_type": "code",
      "source": [
        "#Naive Bayes\n",
        "\n",
        "model_nb = GaussianNB()\n",
        "model_nb.fit(x_train, y_train)"
      ],
      "metadata": {
        "id": "SI17XiY8vApH",
        "colab": {
          "base_uri": "https://localhost:8080/"
        },
        "outputId": "4e9f5b63-a71c-4d8c-d67e-fdbe5cb130b8"
      },
      "execution_count": null,
      "outputs": [
        {
          "output_type": "execute_result",
          "data": {
            "text/plain": [
              "GaussianNB()"
            ]
          },
          "metadata": {},
          "execution_count": 40
        }
      ]
    },
    {
      "cell_type": "code",
      "source": [
        "y_prednb = model_nb.predict(x_test)"
      ],
      "metadata": {
        "id": "-GK8ASoAvhT3"
      },
      "execution_count": null,
      "outputs": []
    },
    {
      "cell_type": "code",
      "source": [
        "#score training\n",
        "score_training = model_nb.score(x_train, y_train)\n",
        "print(\"hasil dari score training : \")\n",
        "print(score_training)\n",
        "\n",
        "#score test\n",
        "score_test = model_nb.score(x_test, y_test)\n",
        "print(\"hasil dari  score test : \")\n",
        "print(score_test)"
      ],
      "metadata": {
        "id": "0syqqkKIvqq4",
        "colab": {
          "base_uri": "https://localhost:8080/"
        },
        "outputId": "dc3b8ad6-fef1-4c0e-c7d9-eabfeffb0d29"
      },
      "execution_count": null,
      "outputs": [
        {
          "output_type": "stream",
          "name": "stdout",
          "text": [
            "hasil dari score training : \n",
            "0.8207317073170731\n",
            "hasil dari  score test : \n",
            "0.8536585365853658\n"
          ]
        }
      ]
    },
    {
      "cell_type": "code",
      "source": [
        "#confusion matrix display dapat dilihat pada sklearn.metrics.confusionMatrixDisplay\n",
        "\n",
        "predictions = model_nb.predict(x_test)\n",
        "cm = confusion_matrix(y_test, predictions, labels=model_nb.classes_)\n",
        "disp = ConfusionMatrixDisplay(confusion_matrix=cm,\n",
        "                              display_labels=model_nb.classes_,\n",
        "                              )\n",
        "disp.plot(cmap='Greys')\n",
        "plt.grid(False)\n",
        "plt.title(\"Confusion Matrix\")\n",
        "plt.show()"
      ],
      "metadata": {
        "id": "-5lnl52Rv5TH",
        "colab": {
          "base_uri": "https://localhost:8080/",
          "height": 299
        },
        "outputId": "e018cc07-550a-4d80-cde0-7c1eca1e8ed6"
      },
      "execution_count": null,
      "outputs": [
        {
          "output_type": "display_data",
          "data": {
            "text/plain": [
              "<Figure size 432x288 with 2 Axes>"
            ],
            "image/png": "[encoded data removed]"
          },
          "metadata": {
            "needs_background": "light"
          }
        }
      ]
    },
    {
      "cell_type": "code",
      "source": [
        "#laporan klasifikasi sebagai string atau dictionary \n",
        "#dengan classification_report():\n",
        "\n",
        "print(classification_report(y_test, y_prednb))"
      ],
      "metadata": {
        "id": "QVjk2rrBxOmr",
        "colab": {
          "base_uri": "https://localhost:8080/"
        },
        "outputId": "e7f86e1f-595a-48fa-ca83-25de49fa7441"
      },
      "execution_count": null,
      "outputs": [
        {
          "output_type": "stream",
          "name": "stdout",
          "text": [
            "              precision    recall  f1-score   support\n",
            "\n",
            "           0       0.88      0.81      0.84        98\n",
            "           1       0.83      0.90      0.86       107\n",
            "\n",
            "    accuracy                           0.85       205\n",
            "   macro avg       0.86      0.85      0.85       205\n",
            "weighted avg       0.86      0.85      0.85       205\n",
            "\n"
          ]
        }
      ]
    },
    {
      "cell_type": "markdown",
      "source": [
        "## **EVALUASI**\n",
        "![EVALUASI 2.PNG](data:image/png;base64,iVBORw0KGgoAAAANSUhEUgAAApIAAADpCAYAAACX8tdNAAAAAXNSR0IArs4c6QAAAARnQU1BAACxjwv8YQUAAAAJcEhZcwAADsMAAA7DAcdvqGQAADAeSURBVHhe7ZwJluOsDkZ7XVlQ1pPV1GZqMWmLwZYAD7FxorjuPYfzYgNi+IRQUv2/f08AAAAAgB2QSAIAAADALkgkAQAAAGAXJJIAAAAAsAsSSQAAAADYBYkkAAAAAOyCRBIAAAAAdkEiCQAAAAC7IJEEAAAAgF2QSAIAAADALkgkAQAAAGAXJJIAAAAAsAsSSQAAAADYBYkkAAAAAOyCRBIAAAAAdkEiCQAAAAC7IJEEAAAAgF2QSAIAAADALkgkAQAAAGAXXRPJf//+USgUCoVCoVCclt50TyQBvIJ/+gRdfIIuANeDRBLgAPinT9DFJ+gCcD1IJAEOgH/6BF18gi4A14NEEiZ+7mG//91/0os1fp53af/vPnz6m+CfPkEXn6ALwPU441x3tfi3A8/v83Gb/jHr7fGb3iuG5O+W6v/dHkOPA5BIvszr/mk1rcohDTvp8TvY0X53P+hXH0DmfYwzdXqBC2ihkTVAT7Kf3p7T9TD5zOZQDnCAM851V4t/O/CUl1mdIPzcl+tfgkTyZWS/XsN7Iplt2NL8EuMYmfMxzk0k87ldPmrX0EIj84ee1InkeCe8kEVu80eANmec664W/3bgmYLELV1q5qD/PuKvkfd7n4SORPJljvmnw/3LPjAmSr/Pn8fgX38ukdT012nTxX0RLTR9dYEqkax8ZhskknCEM851V4t/O/CoIDFcICFAqJP++7ilw9+66Ia+91gfy5CMDn1NcBkS0fHPZrd7cwz509rjpuxIu9EIiaTsyX7m9i+9vz+GAB/3Pv8K9TNoPv5TBimDHj+zeig7qt/in0fzl5Oh3CfDlsInxK8m1vxufm3LvvYa0r8fczoNrMz5dzhTk17DOR72tP6lU/9ZUnERLTRiC3qi7ohBs+inDX+a1XPFHxf9YN5/NsWptbg0JMXGRijT3LqMAV2Qve1NV4tnTPB7aAWJIkkIz2VdKzikMl40uU+jrLbJh7kc9+8h+7Gfuf2r9z0G6Bk9xl8fSnsz7YcyJgwN8qUQy+15fzSSD1OyP+zzu8W1qYvjFaRvP8p9zazMefx16P68y18Nhgv5Nuzl4sVdcAUtNGIHelLrXJ/tJT1bfpJ1XvODF/2nilN1GeeuvkTZsjK3V8aAbsi+9qarxTMm+D3kQx4PT/4FMhyEdEnZg5suOnWB5W9ov+O3u4U2yf540Yxtpm9x+WKLTYpx/yCyF/uZ27/8ftDd/BL1O+ioEokx2Ob+pb38PP2iVWk8w++P+rVat6984nd4lX6l2OJ345yKta362mtIv37M6LQ2Z7Mfaq0Dr/wp8du10IgN6Ml0R9zzlw6lW2CDnk1/XO034z9D621xSuzEVnN3z5j0lc89xoBuyL72pqvFMyb4PdhEcjwsw8F+hIOf3o+HJh4ik3CO2DZjkNCHqng3HrxGaSawfxDZi/3M7d/8voY/leqkwrQr+zXstHRfQJKYGKCjr7V9K7LJ71pzGlj3tdeQfv3YP2f757d8XkWG+O6VO+1btdCIDeiJviOmXxe1Tpv8tOGP6/3a/iO8FqcGyrg084uknd/BMaAbsq+96WrxjAl+D0UiOT6nMn5TLA5NPjDqm6T8GhH7lW2mgzYGjnzQGnYs84HkryD7s5+5/Zt5n/QY/x3c5l8klZ2s6UwwFR8w/45uGMPYqHyi9SvYgt+15iQ0+h5BbPXj+JzHfUhttySSV9FCI3ahJzM/NqgvLVv03PqLpGXZf7bHqYE81tgnt8lF/lmHmkWPMaAbsq+96WrxjAl+D2UiKedl+pY4nYfy0JSHcCrTN9X5NtNBm2uT59M4rH8M2Y/9zO3fzPscCKtS6j73PLASTGd/hVj0idIf6lL73dyay6IuxBeQvv3YN+ewl8MXtfDvI4s/O+aLW7cvuYoWGrEDPVm4I8YEcF3Ptj+u9Zvxn5fj1EARl+IaFvytwxjQD9nX3nS1eMYEv4c6SDQPSOudfKPT/7XdYKP6vw2RXzjyL5zDhTf+Bz36oFV2pKwEkj+E7Md+5vZv7r384jRpcZMEJeiX25X9GnZWg+ngc2oM0dr8KiZov5H6h7K16ndzaxtY9LXXkL792Dln+ZVk3KdBL/XvFe3Ze9R2A9fQQiN2oCetOyK/U18a1vSc88fFfnP+82qcGijjkoyb+w/jxzLcUdMBOj4GdEP2tTddLZ4xQYBe4J8+QRefoAtsIf5COnzxGRLH318pktDGd0e/zEB/SCQBDoB/+gRdfIIusM70i2pdyl8/wQOiTW+6WjxjggC9wD99gi4+QRfYRONP6uafhoArzjjXXS0SeMAz+KdP0MUn6AJwPUgkAQ6Af/oEXXyCLgDXg0QS4AD4p0/QxSfoAnA9SCQBDoB/+gRdfIIuANeDRBLgAPinT9DFJ+gCcD1IJAEOgH/6BF18gi4A14NEEuAA+KdP0MUn6AJwPUgkAQ6Af/oEXXyCLgDXg0QS4AD4p0/QxSfoAnA9SCQBDoB/+gRdfIIuANeDRBLgAPinT9DFJ+gCcD1IJAEOgH/6BF18gi4A1+MrEkkKhUKhUCgUis/Sm+6JJIBX8E+foItP0AXgepBIAhwA//QJuvgEXQCuB4kkwAHwT5+gi0/QBeB6kEgCHODv+ufv83HL/z7m/vxJbyM/z/u/2/Pxmx4/ALqgCwC8hzPOdVeL7w88MRDfukZbCeDrNn8ft+e/uw792/pN6Etk7jLxzKvr/Tzv90/Fz91obVxnIPjTWL+UQMR9j+0KfzFjKBvyPg0o42jNfu71XN6NzPdj9NJlyU5RN+4/ugDAmznjXHe1+P7Ac0YiuY06kXyVeu5yefy7PYYaOIPPXYwx+cvuEpOTKQkMzxt1Dz6SDOnPg5HnTY0RkpQ0hvHVInk55sN9+H5dluxInUr4gy4xIUUXAHg3JJIVS4lk+YufCuZCCOi6figheMd+9lLIbcRGaTePb/vlyyW3qe+FxtzV5R+xNqrLZXENw2X1E5MLe6mVbSfqtS69L9db7oteR5rPrx5f178HGfczyLqLXwiNJgu/dBkW7DR9J7WVupQQiZbB50Li+X4NWlxalwppm84NugDAmznjXHe1+P7A00jGAimpUYmS/bXPBv6QKI1tVYK0ENRtH0H1q+Y1jFf9slHP3fzC1LKRL6DA+hrsZbZib26ts3sQ7en1zu93OZ+6/Tv45MUY9iOsv7XvQxIR9ieVuX1JbUcJ9XNIXlSdGSfvf56D1u7zfL0uA7N2SoyG6AIA7+WMc93V4vsDTwy8VSIZgrUEZoUO4GW9+mUg2wzBPLRrB/bFRLI1foW+RGIx62jYMGNuXUNmk73GWufer603vLMXprYRxq6S63N5v39aYrIxFL3uxQSwwOxp/TzaDyUmQS07o+5J28r33szX65Jo2ikIbWaMoAsAnM0Z57qrxfcHnpigVME2XAJlIicXQb4Y9OcyuBdJz0xQN0lYQPVrjl9SzL28uMJzHNeUccwX1iCs2huYu8Ca79fWq+c3M58/k0jGJCTvXUw40n419m422Qg6KB8pnw1xzMqM9An7rjWxvvRuvl6XJTuKxS9P6AIAb+CMc93V4vsDTwy6JukRwgVbBHJ96YbPEuxz0W0bSY+Q+uT3i4lka/yKeu7molqz8eoaNs0pUax1xLxfWW94ly/Bxnz+UiJZJSUqyTP7JNR+MVEkFo1kZ6RZp/vLOK3P7+frdVmykwjxYk6r0B5dAOB8zjjXXS2+P/DMBfcYyKskLScuEvhNVqOJNutqHezTxWASId2vHH94rpKmxtzNhVSvwfDyGlbsGexaJ/T7pfXK9NR+t+Yj8/9TiaTaz0aSPe5do27S2bZd+4WsrJP2k0alfnNJzvl8vS6LduK+L/k6ugDAuyCRrEgBXS7NseQAni7TXIpAHoJ7s14F8nBBTG2mYC9M9uN7fQHIo1wmU9/x/Uhsb22W74o1DEW337QGw4K9ubXO7kE5xtJ+N+Yjdhcu1zOQeX2K+IvUtD9mL2Z9Je6bSQhN2/pXsGyjSjBb+6201X71bmT8T9FLl1k7hY2xZC3QBQDeyBnnuqvFbwk89a+JErs/G7Rf5QpreDdcjD5BF5+gC8D1IJHsRPglz/70EH5h+KYk7ApreDdcjD5BF5+gC8D1IJHsRvrT1DDfXL4vAbvCGt6L7BH4A118gi4A1+OMc93VIoEHPIN/+gRdfIIuANeDRBLgAPinT9DFJ+gCcD1IJAEOgH/6BF18gi4A14NEEuAA+KdP0MUn6AJwPUgkAQ6Af/oEXXyCLgDXg0QS4AD4p0/QxSfoAnA9SCQBDoB/+gRdfIIuANeDRBLgAPinT9DFJ+gCcD1IJAEOgH/6BF18gi4A14NEEuAA+KdP0MUn6AJwPb4ikaRQKBQKhUKh+Cy96Z5IAngF//QJuvgEXQCuB4kkwAHwT5+gi0/QBeB6kEgCHAD/9Am6+ARdAK4HiSR8gN/n4/bvef9JjxVr9X74u/4ZNZL1//t3f1qpfp73f7fn4zc9fgB0QZdr8T0x8Z38Pm7Pf7fHsDvekLOWzuEfEO2Mc93V4vmBJx7Qm46uP/dh3OWA+3OPTmJ9pGHLCeHALTh0n/XEw7Pefi0ofk/QPN8/Fwh+moJV5a85kC35cdznycZUJg1VQNSJiYydBBLf0pqLL31aO5nv+9myn0Jut57UhXM72lHt57RHF0XcZ7P3G2K7T5Zi4ta425e1O2Ub6SzstBPmMCaSn9mHFnZegp1ba+/qd37Ws8YZ57qrxfMDTxFsfh/P22qgSX1ug/DmW38jcDlh+dC/ez3R7nzsWKv3w3svRkXwU7VH4YKM2gWt5fMmXy4o+oQvGGkQ/dn4U5G8zPvZ+/iYLiUNDcIeDWdtTZvYrvVry3DBqPdBl/SMLpoifu05D27wFxM9+NT8Gfksa3vTqvdyRvdAIqmDTXk5z5L7/NhAVQauQPxWIesIpTSexsz1U7XYGoLeT67PCd6yveCMY730iXOa3pXzE3qtJ7YfX4XkRrUd2+d22ladwNr68gKIbSbbZf/W3vVHxv4IKnGMyF4Ve7Tj4tTJYmVTjymfVfISfCSMd95ev8LHdCmw+ymkPQ2+uaRNQ8850GWGGCOmPWjFdh1jSq1SHPnVbWQfdezRGsV22kSIx2OiM2dPEbTMdakEg3HM0XZol8fWdRvGWLtzlvoG4ni5v5TpjtB9h6I3I9s3cTnaMnfM7PwGTN39+aj2t2g/Us55Wld9Rss5vbKm4cwVexOb57mV85Bx4r1r38nYuY8aZ5fvnI+M1ZuuFs+YoCWKdXs8gkDGoWfJfYa2jQM92SifoxNM2sqzcoZgKz/HvtZZVuwtXBjL33Z6rSfWx2epy3bK8WO7aq2z9TKt4bkIGHo9zfqZvejJ+f45g9FJKLUYCP6g26xQtl98znuc9zk+m/E/yMd00TT23yZ3C9qkenMpNTe3PAvoMhHXPh/bc31+345nVZxSbWzcqc9gnUg27I0d1mNmeKzOvqrbNEauG1i8c8q+lvpOie2376fQ6rM8v7FtOCODvdVEMo2rKoxuZoyBRpx7bU1ior03+VVdv9anHCc9j+2XfOd8zjjXXS2eH3iyQFIWArsh9snONX2jse+jQ645mKLhwKbpmr10sFrmlx2r13rUnMu2clgXDnywsxQQ9N405mHqW/1P4r0XoyXoFPw2+q4kHbN7tgGrwUDZf8He6AehTZzTFHzfzyd1ybT3M/ntmjZVslBcYKE+aa/HKPjbusQ4EPepsddaj8S4X/GpHaf0C5OElElGar817pXzacXMISmu/UbbXRmjxPjha32rvdixn/ndrE/q+c3ZX9jfQKOfsVvoZmzuWlPZRrDt6vq1PvU4i/M0vnM+Z5zrrhbPDzxRIHFk++0yEsQKgUhKFmrqEx+zUxbvdbDXRXtD1Wb+UG+yF+YS3+vD2XLciV7r0XO235Cm5FSYWdtiQFD2wjyKwGDGa/U/B1m/D+pLbNIxPS+yof+cPXkftJvX/918Xpd6P+UM1GcsPlY0fNyeoYkYo9ClJq5b9rwV2+Mepximy7jHdRyp4qjRqdbcXPYNe6H/WG+1acXMOMcy9mm7a2MMVOvOY27oq2jvhbabSrEGYz+903fV7PzCe7v21f0VGv2GlzN7XdjYtaY0L/PStqvr1/o0xpG5bfKd85E96U1Xi2dM0BIFio4cP68LoPtEYqC6P+/6fbgsSgdWlJeJeW44zpo9TWi77LgTndaj55zGnw6f7tdYmzkUc2tPe9Oah65v9T+J8/1zI61gafZkGRuQM0XSsRqQZd9bn9/Pp3Wp91P2SZ+HqehzN1JpF3262TbZtv6OLnbP4mcTA1txxBD72C5FHDVnotbB+kFtz8S9MB/tG3puU98Ym7VvabtbxlD6m+eVvgXVXuzYz/zO3jEz82vYX91foTWv5jhDm7Jtq6+hPWa1N0W7un6tT2Oczb5zPmec664Wz5igJQo0BegYDNoBO1P2EaaLYrMtE4TEFwZHWjrUm+aWkbbTQbEHrqTTevScZW128orG2kzAivV6b2zwrOdh61t7dw7n++cWklblgstgGUh7azd/RtfYNr8Pe1yMIe+mfnrfxeZ7g5nms7qsnZOBSptSF7v3pr181jqEOGJ1Rheh2MNKlzWd9L5FqsvexPBCw3y5L8UlHfc2x8xinEbd4hiv3Dm6b0F9p7y+n/nd2GdxfoX9LfsbqOdl7wshzWP4kmU12LOmNG/z0rar9671TvdpjFPqWk7ijZxxrrtaPD/wJAfSjhKcueWQmUafgej05fvoiPI+l8qhc939PrRdONSBBXtp3tX7wNSvnHe/9dg5m7VJWTrw+lCE+mEfxv8STkp5+RXzmD2A5yJjf4Zi/XqxhR/EYv1Kt486zyQXOViHUrQxmiXU2LWfvQ8Z/1Ms7mdGJ4aBWhe799qfU9uxTtsZQJdE3Cez3rQP015uj2dC0Fa/CPaU1uV5MVrU9kqttsfMOO84V1334hhrd07R1zLt3bRnr+1nfqc1mp/fgN5fmdfa/o4U82qsKd93df9X15RsmZdlu+W9i+90n8Y4m33nfGS83nS1eMYE4XzCQSocWRxdB4wrgH/6BF18gi7z/JWYaYkJ0rXXeD6f9h0SSTiF8O2o8Y2MRBLeAbr4BF3m+Ssx09L4pQ1e5tO+QyIJJxEdWfTL5YoBEf/0Cbr4BF2W+Bsxc0T+NCvrfOOfYK/LZ31HxutNV4tnTBCgF/inT9DFJ+gCcD1IJAEOgH/6BF18gi4A14NEEuAA+KdP0MUn6AJwPUgkAQ6Af/oEXXyCLgDXg0QS4AD4p0/QxSfoAnA9SCQBDoB/+gRdfIIuANeDRBLgAPinT9DFJ+gCcD1IJAEOgH/6BF18gi4A14NEEuAA+KdP0MUn6AJwPUgkAQ6Af/oEXXyCLgDXg0QS4AD4p0/QxSfoAnA9viKRpFAoFAqFQqH4LL3pnkgCeAX/9Am6+ARdAK4HiSTAAfBPn6CLT9AF4HqQSAIcAP/0Cbr4BF0ArgeJJMAB/oZ//j4ft/xvYe7Pn/Q28vO8/7s9H7/p0Qnogi7XImp9tyL/eX4ft+e/22PYHW/I+Utn8w+Idsa57mrx+wKPDu5TuXWJ6NE5l21tafMq7TXF4u+yeieyB/7IQayljQpwzeSjUfdzH4OhBG7tWz93n5cbuqBLjlsmFsqefWXMWkoko3/0jfnrhCTusJOlu2WnHZtIfmYfWtQJrp1ba+/qd37Ws8YZ57qrRZ8XwhKN4PX7eN6GdRw/dB6Izn2JpXTAm3+GYCTJRvC5+sKUBCP7of4szNWZAFckL7q/J9Bl6u+JjyaSM3v/HSwlkp/Bg5+FOTj8RXJtb1r1ns/tGiSS3WkkkkIVxGJCJusLpXIgWx+rbTAJjje2yb9UlAEnPtftBKmTOemxdH2LViKZ7PykhHm08doav/EQybxd0rw0Zb/Vu/DrjNZqpk4+p2AtPhd8O9hf85XPgS4+ea8uMfZN+9JKxJZi0Fx81DFVaxnbaRMhRo+JzoZ4G/TNdakEg3HM0XZol8fWdRvGSHuR7U/z3dA3EMfL/aVM953uOxS9Gdm+uSeiLXNfzs5vwNTdn49qf4v2I+Wcp3WVX9xy231rGs5hsTexeZ5bOQ8Z56fxTsbOfdQ4u3znfGSs3nS1eMYEzyWKbw5GQL8v20TnmDRv1IfDEt+HdrMXhmqTPmtnCoemOHiTQ9bta8q5CqUdIb57aY2VXf+49c/gHxJ40rNQvtPPS3Wjvlnj+OxZK3TxyXt1yTHmEWLLFGsyuT6/b8eoKj6qNjae1jGsTiQb9sYO0n/SOvQd62Lb8GiSSEHVbRoj1w0EW+X65vpa7PyE2H77fgqtPsvzG9uGszDYW00k07iqwuhmxhhonLHX1iQm2nuTX9X1a33KcdLz2H7Jd87njHPd1aLbC2GWKPDkeBPivOF9cNQFx2vUR5RjpUNU+0rZprDTOCTaRpjHeDBblAdJqO20xl5b47udvwdu/dPonCjf6eeluoJRp9BGglvb3z8JuqDLsBEhLsmYzX8XGfZpKQbNxEf9wiQhdWwM7RcSHVNfzkdsl32HpLjWX9tdGaPE+NNrfau92LGf+d2sn+r5zdlf2N9Ao5+xW+hmbO5aU9lGsO3q+rU+9TiL8zS+cz5nnOuuFt1eCLNEweuDod6H4JMDnCrZS8pvSCOFMwXniX2n8VSbph39zaV2znUH3JhIblrjQv2XIHN2iQmUifKdfl6q08j74B9ac+1TPkAXefnXdYl7IbHR/nKYWI1BdVyrLnsTY+vYaC77hr3Qf6y3eoU5F3OJcyxjura7NsZAte485oa+ivZeaLupFGsw9tM7c1/OzS+8t2tf3V+h0W94ObPXhY1da0rzMi9tu7p+rU9jHJnbJt85H9mT3nS1eMYEzyUKXiWS1eVQOrZitr7ttLF9w+FadvQ8Vp2zRR0sm3Z2r/G7cOufRueMDTYxSGYNluoyuo1o3vrsA3QpP/vgvbrEuBRjcfxsLtfVGBT72C6t5Elr1Wi/lOhI/1wf5qOSFTO3qW+dFGu7W8ZQPmGeV/oWVHuxYz/zu/G+XJpfw/7q/gqteTXHGdqUbVt9De0xl5PCVv1an8Y4m33nfM44110tnjHBc4mC20QyBpjJSeJzlWyOlPXDc3CYttPG9q1gUI9jg9CKczaJNu0cWvOqx7as1X8Hbv2zDJQB65utXzzadRF5N+lV+tl7A9ca6CKf/7oudu/ifiw9l+i9jFSXvcTLcY9j+7E+X+5b4618NpUa3bcYp1G3OIbyibCe5t2R0H0LQl9T9/p+5ndjn8X5Ffa37G+gnlc4R2buaR7DFy+rwZ41pXmbl7ZdvXetd7pPY5xS13ISb4REsjtRcJm3LrXG0UF1G+OsxTeMypnCgWv1LR2uGGfWURMLgSMS7dn1NOwEVta4Wu8fmbMrCr+IRSUuxq+KJGOpruUXaixvusmcXIEuAZnT+4hxyexB2pvZ+DiUqX0d16oEIdhTmpRaGX3W421IcNRc5vvGece56roXx7jfBzv7Esk8B7Ez7dlr+5nfaY3m5zeg91fmtba/I8W8GmuKSWur/6trSrbMy7Ld8t7Fd7pPY5zNvnM+Ml5vulo8Y4IAvcA/fYIuPkGXeVq/UklyoJOs6xETpGuv8Xw+7TskkgAHwD99gi4+QZd5wi9KjV+x/kIiaZYNL/Np3yGRBDgA/ukTdPEJuiwRL3/Zo1wunUTKn2ZlnW/8E+x1+azvyHi96WrxjAkC9AL/9Am6+ARdAK4HiSTAAfBPn6CLT9AF4HqQSAIcAP/0Cbr4BF0ArgeJJMAB8E+foItP0AXgepBIAhwA//QJuvgEXQCuB4kkwAHwT5+gi0/QBeB6kEgCHAD/9Am6+ARdAK4HiSTAAfBPn6CLT9AF4HqQSAIcAP/0Cbr4BF0ArgeJJMAB8E+foItP0AXgepBIAhwA//QJuvgEXQCux1ckkhQKhUKhUCgUn6U33RNJAK/gnz5BF5+gC8D1IJEEOAD+6RN08Qm6AFwPEkmAA+CfPkEXn6ALwPUgkfwSfh+357/b4/mbnsEHf8M/f5+PW/63MPfnT3ob+Xne/92eD2eOiS7oci2i1ncr8p/H770o5y+dzT8g2hnnuqtFv4FHB/FcymDej/cdmNa6PhPAwpqdH0LZG3/kINZKJFSAayYfjbqf+6iDaHJTRn/uPi83dEGXHMv0voQ9c5hgr7OUSEb/MOt8A33ic7pvdtqx9+Jn9qGFnZdg59bau/qdn/Wscca57mrR54Ug1EFKgvdZyV7tmGfRCL4fonXYvOHNP8OeSbLx+3jeGhdm8NG0p/qzMFdndCiSF93fE+gy9ffERxPJmb3/DpYSyc/gwc/CHN5yL77G2t606j2f2zVIJHfTSLjCt131i0EIXEPgT2XyEekrAW3mlwbB9L0/H9WBieNn27b/nH3dZy6gNtZl2DDuT557rtPzGErrAI315Txj8ZDYtpC5uaR5aYoO6p3x14U6+Zx8T7QKWgT7WntfoItP3quLimUpntb39FJsSvFscxyN7bSJENvGuD1nTxH0zXWpBINxzNF2aJfH1nUbxkh7ke1P893QNxDHy/2lTPFZ9x2K3oxs39wP0ZaJ77PzGzB15b0YbZn2I+Wcp3WVX9xy231rGs5hsTexeZ5bOQ8Z56fxTsbOfdQ4u3znfGSs3nS1eMYE+xBF1gfAOqQIroTWF0DqWz2PfQvb+fAUB0Y7SRi7rK/Gmw6Zba8pxja8Oq5Q2osHYVqqrE23n/iGb2hu/TPsqwSe9CyU7/TzUt2oa9Y2PnuWBl188l5dcux5hJhTx7Rcn98XsWnc361xtOw/9GgkOpW9sYP0n7S28S+2DY8miRRU3aYxct3AS/eSpY7Psf32/RRafZbnN7YNZ2GwV+xvPd00rqowupkxBhpn7LU1iYn23uRXrbttuU85Tnoe2y/5zvmcca67WnR7IYzCTmVytgYN59Q6B+GzY4e2DcdcqN9kX78oD89Iva6x3Y5xW33MXEJ90Sfx7sOwB9kflxhdEuU7/bxUVzDqEtps8P0PgC7oMmyEimWNPQv7tBCbXo6jZZKR2i8kOqa+nI/YLvsOSXGtv7a7MkaJ8afX+lZ7sWM/87tZP9Xzm7O/sL+BRj9jt9DN2Ny1prKNYNvV9Wt96nEW52l853zOONddLbq9EJKw4wEIAaU44OFdDmQ6mDWcTwsf+i0cmEb98FJ9I5lxOv2iaUMo1qXZMW7so/cgFTu54RDE93rc1mHzhszZJSZQJsp3+nmpTiPvgx9qre23YQ+gi7z867pMsaz5F5jV2FTHs+U4ahMSwcTthr3Qf6y3eoU5F3OJcyxjsLa7NsZAte485oa+ivZeaLupFGsw9tM7c9/MzS+8t2tf3V+h0W94ObPXhY1da0rzMi9tu7p+rU9jHJnbJt85H9mT3nS1eMYE+xCF1QfAiLd4Aaw4RWi7cGAa9Wv2KydtHi6hXtfIjnGbfeYIbaf+rcPmDbf+aXTJFImF8YGluoxuI1q3PvsAXcrPPnivLjEexVgWP5t4shqbYh/bZSmOig6N9kuJjvQ3cT0lKqHouU1966RY290yhvIJ87zSt6Daix37md+N983S/Br2V/dXaM2rOc7Qpmzb6mtoj1nfXbZdXb/WpzHOZt85nzPOdVeLZ0ywD1HY+ptUElB/HghOsvnAxoBkD5cOHkX9gA0utf3KSYv5TTTWNfL6uK0+80jb6XCHOY+2feLWP4PPqEAZsNrab61LdRF5N+motRbd3hu41kAX+fzXdbF7F/dj6blE72VkOY7G9mN9Fbdre6F/rpfPplKj+xbjNOoWx9h9L1nq+Pz6fuZ3Y5/F+RX2t+xvoJ5XOEdm7mkewxcvq8GeNaV5m5e2Xb13rXe6T2OcUtdyEm+ERHI3yfGMg9l3wVnF0aXc74NDvnBg8yGRIu+rAx0dfLQ/64CRyrGLAzvRWpfmtXEjRZ+hjPbDPBrvA1O/+fl8FpmbK4r9jEUlLtqvSv2X6ir/G1BjedNH5uQKdAnInN5HI5alvZli1EJsasSz1ThaamX0acTHQj9zZ0iZ7RvnHeeq614c49V7ydCKz6/tZ36nNZqf34DeX5nX2v6OFPNqrCloO9TV/V9dU7JlXpbtlvcuvtN9GuNs9p3zkfF609XiGRME6AX+6RN08Qm6zFP/IhWTA51kXY+YIF17jefzad8hkQQ4AP7pE3TxCbrME35RavyK9RcSSbNseJlP+w6JJMAB8E+foItP0GWJePnLHuVy6SRS/jQr63zjn2Cvy2d9R8brTVeLZ0wQoBf4p0/QxSfoAnA9SCQBDoB/+gRdfIIuANeDRBLgAPinT9DFJ+gCcD1IJAEOgH/6BF18gi4A14NEEuAA+KdP0MUn6AJwPUgkAQ6Af/oEXXyCLgDXg0QS4AD4p0/QxSfoAnA9SCQBDoB/+gRdfIIuANeDRBLgAPinT9DFJ+gCcD1IJAEOgH/6BF18gi4A1+MrEkkKhUKhUCgUis/Sm+6JJIBX8E+foItP0AXgepBIAhwA//QJuvgEXQCuB4kkwAHwT5+gi0/QBeB6kEiCc36fj9u/5/0nPTrj7/pn1EXW/+/f/Wnl+Xne/92ej9/0+AHQBV0A4D2cca67Wjw0wZ97CqhSPhtAhd/H7flvJiP6uQ9zbNX9Pp63DnNfGnsvYc7D3t5mJrdWv421RFIux6Nj7OeQf+5GJwu2TPsQ9yW+LxOKAnNOWnuZx1N+KH2SKOJbuo/o3tnVXkbW8X626CI09nOGcG5HO8X+z71HFwB4I2ec664Wd08wJGA6cA4X6+0xhPDPsZjMhYuhvvBDnw7zXhx7F/EyvN3komslKvHXj5u0WbstF4njfPoCnMPNxVh84dBfTPTnGtFJ6Rf80CY40QcHLdV7409F8tLXz/bhVRehtZ8tYrvW2bexLOibntEFAN7NxRPJuUAdf63RcdUGbUlepG9sJ3Oofz0of33QyVTq/xOTWekrCdXUtpVc1XPKY9h3ek5DqS4HW3//Keepx35lDWWyGPveHj+NOQ616eKSS86sNSX4ecyltcW6vAe6rpynblvqVs57bf9eQ2x4wCaLskblrzNfUtrE/Zm2JdkKflDYVMlL0Dhou3Wcc/GpizCznxWFhktofdEFAN7MGee6q8X9E4wJRvsCLS/LGHRtImn7NuuVAf2rwNzYObmaw44xUF0A0e6UmJXraNSrS8WOvW8NE9NY1bzDvOIlaBNJea/smQRnbu7lPMp5x+f4uK3t/P69jouLsfzStPa8RNFWtA37VdnIe533W+vweVzqMjC/nwWp3nwBbW5u28fRBQDexRnnuqvFoxMMyVEIqjpo1wmETYYawVcH/vA5JysJczG0g3edzBUUl0vVvjGuadOaV2KLrfhueQ0TsT4mZVPiGFC/ithEskCPNzv3eh7zWq20bYxR7cuLeLgY7X4MGB0bzwuE85L3Q+/Xio1xH0O7eOZmdX8DfnXZtp/xS5auL2JWqE+xTY9RgC4AcDZnnOuuFntNMATUMTDvSCRDn9Tf/JKW0clUq38ao3xpiP1ioG/Y0JeHLrlRc16Rauyda5jQcxVzeR62X5VIVmtY2lNhZh+aWq20rcZOxXR4Den/WWpfjklD1rHxPIM9A7JdSrslG1IX+un91770fjzqsnk/hcZ5MEm+wsY2BboAwBs441x3tdhvgjqw10F+NZHUgT98LpIeczE0+g+sJ5KpjcyjlVi1xtUs1Fdj71zDRKy3F+Ngr5j34uWpn1vzCTTmoZNDU7/SdnaM/Xz6YrR+mymShZYvFQQ7pk08I7K+spgvBmYs2f/W5/cj8/wktS5b9zNRnpWwnzNtk217VtEFAN7DGee6q8W9E5RAboKuuUxjUB4TqxC0h+ciOSkToqk+Bm5t39bH/jawxznVl35JvADa/7VzPa6lrB+e03hzF9ura5iI9VP/vGe1zfG5SGhi8pIvtbm5N+axN5FsrPkon70Y59ZjtQm6jpuSdFKbZHWfoUpsIkZfs/8yt+Xk9Ux86qKYSRRLnUYbur181k4ezpXVBl0A4F2cca67Wtw/wRSYh/6xFJdgTh5DGQJrKzl5FG1CXSZeFqN9cxHrwK2Z+ixdMuFib1zakWLc0pZZl55Da+w9a8jEejP26oUWn8fx7vdhfNW+OffGPHYnksLK/r2I9P8UMRGfSQpK/06v8x5VX6LKYvZsILQrfLLa24HgA9HGkX09ioz/KRZ1yVT7WegiNM+DkNqOdegCAJ/jjHPd1eJnAk8jIQFowMXoE3TxCboAXA8SySYkkrANLkafoItP0AXgepBINiGRhG1wMfoEXXyCLgDXg0QS4AD4p0/QxSfoAnA9SCQBDoB/+gRdfIIuANeDRBLgAPinT9DFJ+gCcD1IJAEOgH/6BF18gi4A14NEEuAA+KdP0MUn6AJwPUgkAQ6Af/oEXXyCLgDXg0QS4AD4p0/QxSfoAnA9SCQBDoB/+gRdfIIuANeDRBLgAPinT9DFJ+gCcD1IJAEOgH/6BF18gi4A14NEEuAA+KdP0MUn6AJwPb4ikaRQKBQKhUKh+Cy96Z5IAngF//QJuvgEXQCuB4kkwAHwT5+gi0/QBeB6kEgCHAD/9Am6+ARdAK4HiSTAAf6uf/4+H7f872Puz5/0NvLzvP+7PR+/6fEDoAu6AMB7OONcd7V4hcDzc4+B/W6iegz4t9WoLsFf+m5tvxV94cxdPLDGR/3z5270M/5V1C37TfSx2Db7QMs/Ygm2xH4a8PdxM/bF362vvx+Z58eY0+X38byp96HcHsNOz2Ds1Amg7HtVjy4A8GbOONddLX5/4EkJ4E2Cvk7UeieGr1KPHxLepYsNKj7nn/kLRnyKSUX2L6lTvhYSkvlfooLuyZD+XBESoWgnjJfbFcnLbP834lIXtX/rDHbUWSzPZrDbOKvoAgDvhkTydHLC9lMkbo1EsvjFYor7sa081xd9aUf/ulS21TTGDwmHSkBm5nN0DvFyzfU6uf4+ZA2fQfZYJSWldgab3Fi22zG6S7uUyIieQfvgLz70dKnLS4lkgdGlGEODLgDwZs44110tfn/gUUlWuAzyBdBKvlSwNxdHbBvucPN+wFxO7YSunUCUbcW0TvoW5nNkDo4utR580j+DXmEvl3QeWEpgyrq5ttX7qLOsP85B+agDXOoS9jDvWSzb9ivtdW6ctLiN+6/q0AUA3swZ57qrxe8PPDGQ58RqStbs+wpzcevLwF5O4de9/Ceu0McmafN/0tIXzlRmLxwzn8YcpoflOYR6PxfbUT7tnzFpGUrjz5wZ+wWhwOjaeE4YP2swapz0lTnN+vYb+AZdwp419nokfGFr2Anvdb/5LxLoAgBnc8a57mrx+wNPkTCOF3UjkdQXRyj5stCJZLqkwoN9X/dPpXXDlPMS0mUzb2+6vKbkcMccnFxqPZA1fIaYPOT9i4mLTeCFtQRw8seZ58B8ohKQPmEM7QvSp7TzPrzrElnZV4VJOsMZszabXxbQBQDewBnnuqvF7w88dcIWgv7t/rzr94sXepGshbrhIsn/m16P79PjMvW8zLvF+eTng3MIbbddpF75mH9WyUSdlMTkY02LIrFoJCnLyajuL/7T+vx+POsysVRXotqWZ7F5ltEFAN4DieTpzAX54he54gIyv0AkG9OFk2zKfwlubqFo1441R2NeOrFbnI8Q+8sa9s9BX3bfycf8M+ij9q5ILuKXlVbyl3QbNbN+UP+ytayntJ/qoq3YXfqtJbHn4VEX2Su9tTbRL3SRfrqxsWs1K7UX0AUA3sUZ57qrxe8PPEXQT8RLxL4Pl/jwLpT7XSVZ+iKI5P76XSRe/KOdoZRjR9LFVbS1d5eqM/OJ7JpDuBAb778UWcOnyPufy6hD+kKg60JRf+Y0yaJpb5MMm+wUiJZlsqr0/aS2Mv6n2KyL2btSl/J82rNX2jJnEF0A4I2cca67WiTwOCZcTp/7dcMD+KdP0MUn6AJwPUgkYTfhF0vzU8jfA//0Cbr4BF0ArgeJJOwk/vn6j+eR+KdT0MUn6AJwPUgkAQ6Af/oEXXyCLgDXg0QS4AD4p0/QxSfoAnA9SCQBDoB/+gRdfIIuANeDRBLgAPinT9DFJ+gCcD1IJAEOgH/6BF18gi4A14NEEuAA+KdP0MUn6AJwPUgkAQ6Af/oEXXyCLgDXg0QS4AD4p0/QxSfoAnA9SCQBDoB/+gRdfIIuANeDRBLgAPinT9DFJ+gCcD2+IpGkUCgUCoVCofgsveErJwAAAADsgkQSAAAAAHZBIgkAAAAAuyCRBAAAAIBdkEgCAAAAwC5IJAEAAABgFySSAAAAALALEkkAAAAA2AWJJAAAAADsgkQSAAAAAHZBIgkAAAAAuyCRBAAAAIBdkEgCAAAAwC5IJAEAAABgFySSAAAAALALEkkAAAAA2AWJJAAAAADsgkQSAAAAAHbwfP4H3mMBHLDTZTgAAAAASUVORK5CYII=)"
      ],
      "metadata": {
        "id": "5BXw4FvDl4Mx"
      }
    },
    {
      "cell_type": "markdown",
      "source": [
        "Berdasarkan Model-Model diatas kemungkinan pilihan model terbaik untuk prediksi data baru adalah **Logistic Regression** dengan akurasi mencapai **86.82%**"
      ],
      "metadata": {
        "id": "wOknOc557JXY"
      }
    },
    {
      "cell_type": "markdown",
      "source": [
        "Pasien baru dengan data sebagai berikut :\n",
        "1. age = 57 tahun\n",
        "2. sex = 0 (perempuan)\n",
        "3. cp = 2 yaitu non-anginal pain\n",
        "4. trestbps = 130 mm/Hg\n",
        "5. chol = 298 mg/dl\n",
        "6. fbs = 1\n",
        "7. restecg = 0\n",
        "8. thalach = 160\n",
        "9. exang = 1\n",
        "10. oldpeak = 2.2\n",
        "11. slope = 2\n",
        "12. ca = 2\n",
        "13. thal = 1\n",
        "\n",
        "berapakah prediksi target 0/1 ?\n",
        "apakah pasien baru tersebut memiliki penyakit jantung (1) atau tidak (0) ?"
      ],
      "metadata": {
        "id": "rSXKrTa97zB2"
      }
    },
    {
      "cell_type": "code",
      "source": [
        "data_baru = [[57,\t0,\t2,\t130,\t298,\t1,\t0,\t160,\t1,\t2.2,\t2,\t2,\t1]] "
      ],
      "metadata": {
        "id": "swyBa4gs90Ag"
      },
      "execution_count": null,
      "outputs": []
    },
    {
      "cell_type": "code",
      "source": [
        "df_baru = pd.DataFrame(data_baru, columns =['age', 'sex', 'cp', 'trestbps', 'chol', 'fbs', 'restecg', 'thalach', 'exang', 'oldpeak', 'slope', 'ca', 'thal'])"
      ],
      "metadata": {
        "id": "OBLlnyAddhL3"
      },
      "execution_count": null,
      "outputs": []
    },
    {
      "cell_type": "code",
      "source": [
        "#prediksi data baru\n",
        "model_lr.predict(df_baru)"
      ],
      "metadata": {
        "id": "CaDye9mC9TSw",
        "colab": {
          "base_uri": "https://localhost:8080/"
        },
        "outputId": "ab9088f8-2316-4c18-b40a-ab6135a35591"
      },
      "execution_count": null,
      "outputs": [
        {
          "output_type": "execute_result",
          "data": {
            "text/plain": [
              "array([1])"
            ]
          },
          "metadata": {},
          "execution_count": 47
        }
      ]
    },
    {
      "cell_type": "markdown",
      "source": [
        "Berdasarkan prediksi menggunakan model **Logistic Regression** pasien baru tersebut memiliki target **1** yang mengindikasikan pasien **memiliki penyakit jantung**"
      ],
      "metadata": {
        "id": "3DzNxVQaCHpl"
      }
    }
  ]
}